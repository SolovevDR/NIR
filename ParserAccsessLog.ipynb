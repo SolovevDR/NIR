{
  "nbformat": 4,
  "nbformat_minor": 0,
  "metadata": {
    "colab": {
      "name": "ParserAccsessLog.ipynb",
      "provenance": [],
      "collapsed_sections": [],
      "mount_file_id": "1MbK4JhwhTdH3OMOnYnQqyXS43P7TsgQf",
      "authorship_tag": "ABX9TyPVpAGj2PlTGUrwb73ro12n",
      "include_colab_link": true
    },
    "kernelspec": {
      "name": "python3",
      "display_name": "Python 3"
    },
    "language_info": {
      "name": "python"
    }
  },
  "cells": [
    {
      "cell_type": "markdown",
      "metadata": {
        "id": "view-in-github",
        "colab_type": "text"
      },
      "source": [
        "<a href=\"https://colab.research.google.com/github/SolovevDR/NIR/blob/main/ParserAccsessLog.ipynb\" target=\"_parent\"><img src=\"https://colab.research.google.com/assets/colab-badge.svg\" alt=\"Open In Colab\"/></a>"
      ]
    },
    {
      "cell_type": "markdown",
      "metadata": {
        "id": "0EgI-WCt0Osw"
      },
      "source": [
        "# Подготовка среды для работы(запускать строго в этом порядке, не будет иначе geoip работать)"
      ]
    },
    {
      "cell_type": "code",
      "metadata": {
        "colab": {
          "base_uri": "https://localhost:8080/"
        },
        "id": "vvV0dviizEQP",
        "outputId": "2c48db17-c86b-45d7-fab5-2941f597a9a2"
      },
      "source": [
        "pip install python-geoip-geolite2"
      ],
      "execution_count": 1,
      "outputs": [
        {
          "output_type": "stream",
          "name": "stdout",
          "text": [
            "Requirement already satisfied: python-geoip-geolite2 in /usr/local/lib/python3.7/dist-packages (2015.303)\n",
            "Requirement already satisfied: python-geoip in /usr/local/lib/python3.7/dist-packages (from python-geoip-geolite2) (1.2)\n"
          ]
        }
      ]
    },
    {
      "cell_type": "code",
      "metadata": {
        "colab": {
          "base_uri": "https://localhost:8080/"
        },
        "id": "iyBFyUXazLae",
        "outputId": "39f5a744-89b9-41de-89ca-6353ecd9ca9c"
      },
      "source": [
        "pip install python-geoip-python3"
      ],
      "execution_count": 2,
      "outputs": [
        {
          "output_type": "stream",
          "name": "stdout",
          "text": [
            "Requirement already satisfied: python-geoip-python3 in /usr/local/lib/python3.7/dist-packages (1.3)\n"
          ]
        }
      ]
    },
    {
      "cell_type": "code",
      "metadata": {
        "colab": {
          "base_uri": "https://localhost:8080/"
        },
        "id": "g4YZN9zqzjzr",
        "outputId": "edd36d6a-5bd6-437e-b489-bd7ca971f0e9"
      },
      "source": [
        "pip install user_agents"
      ],
      "execution_count": 3,
      "outputs": [
        {
          "output_type": "stream",
          "name": "stdout",
          "text": [
            "Requirement already satisfied: user_agents in /usr/local/lib/python3.7/dist-packages (2.2.0)\n",
            "Requirement already satisfied: ua-parser>=0.10.0 in /usr/local/lib/python3.7/dist-packages (from user_agents) (0.10.0)\n"
          ]
        }
      ]
    },
    {
      "cell_type": "code",
      "metadata": {
        "colab": {
          "base_uri": "https://localhost:8080/"
        },
        "id": "vdyQiss8zndX",
        "outputId": "a9e6e34a-aeeb-4d09-86e3-ba94275bbce6"
      },
      "source": [
        "pip install apachelogs"
      ],
      "execution_count": 4,
      "outputs": [
        {
          "output_type": "stream",
          "name": "stdout",
          "text": [
            "Requirement already satisfied: apachelogs in /usr/local/lib/python3.7/dist-packages (0.6.0)\n",
            "Requirement already satisfied: attrs>=17.1 in /usr/local/lib/python3.7/dist-packages (from apachelogs) (21.2.0)\n",
            "Requirement already satisfied: pydicti~=1.1 in /usr/local/lib/python3.7/dist-packages (from apachelogs) (1.1.4)\n"
          ]
        }
      ]
    },
    {
      "cell_type": "code",
      "metadata": {
        "id": "5sP0X12pzp1b"
      },
      "source": [
        "import os\n",
        "os.chdir('/content/drive/MyDrive/Colab Notebooks/NIR')"
      ],
      "execution_count": 5,
      "outputs": []
    },
    {
      "cell_type": "markdown",
      "metadata": {
        "id": "c15vC0Ho0jm4"
      },
      "source": [
        "\n",
        "\n",
        "---\n",
        "---\n",
        "---\n",
        "\n"
      ]
    },
    {
      "cell_type": "code",
      "metadata": {
        "id": "hEhZrncizRpi"
      },
      "source": [
        "import time \n",
        "import pandas as pd\n",
        "from urllib.parse import urlparse\n",
        "import re\n",
        "from dateutil.parser import parse as dateparser\n",
        "from user_agents import parse\n",
        "from geoip import geolite2\n",
        "import datetime\n",
        "from apachelogs import LogParser"
      ],
      "execution_count": 6,
      "outputs": []
    },
    {
      "cell_type": "code",
      "metadata": {
        "id": "-fIK4VSk-Fk_"
      },
      "source": [
        "def ban_separation_date_time(datetim):\n",
        "    req_requset = re.compile(r'([0-9]+.[0-9]+.[0-9]+).([0-9]+:[0-9]+:[0-9]+.[0-9]+).(.[0-9]+)')\n",
        "    date_and_time_list = []\n",
        "    for i in range(len(datetim)):\n",
        "        result = req_requset.match(datetim[i])\n",
        "        date_and_time = result.group(1) + ' ' + result.group(2) + result.group(3)\n",
        "\n",
        "        dt = dateparser(date_and_time)\n",
        "        date_and_time_list.append(dt)\n",
        "    return  date_and_time_list\n",
        "\n",
        "a = ban_separation_date_time(['2021-10-05 22:51:16.972634 +0000 UTC'])"
      ],
      "execution_count": 7,
      "outputs": []
    },
    {
      "cell_type": "markdown",
      "metadata": {
        "id": "fQbymtd84wVq"
      },
      "source": [
        ""
      ]
    },
    {
      "cell_type": "code",
      "metadata": {
        "id": "et_yDafQgFQc"
      },
      "source": [
        "def create_dict(new_date_list, status_list, ip_list):\n",
        "    ban_dict = {}\n",
        "    for i in range(len(new_date_list)):\n",
        "        if (status_list[i] == 'added'):\n",
        "            if ban_dict.get(ip_list[i]) == None: \n",
        "                ban_dict[ip_list[i]] = [new_date_list[i]]\n",
        "            else: \n",
        "                spis = ban_dict[ip_list[i]]\n",
        "                spis.append(new_date_list[i])\n",
        "                ban_dict[ip_list[i]] = spis\n",
        "        if (status_list[i] == 'removed') and (ban_dict.get(ip_list[i]) != None):\n",
        "                spis = ban_dict[ip_list[i]]\n",
        "                spis.append(new_date_list[i])\n",
        "                ban_dict[ip_list[i]] = spis\n",
        "    keys_list = list(ban_dict.keys())\n",
        "    for i in keys_list:\n",
        "        time_ban_unban = ban_dict.get(i)\n",
        "        if len(time_ban_unban)%2 != 0:\n",
        "            b = time_ban_unban[len(time_ban_unban)-1]\n",
        "            b = b + datetime.timedelta(seconds=30)\n",
        "            spis = ban_dict[i]\n",
        "            spis.append(b)\n",
        "            ban_dict[i] = spis\n",
        "    return(ban_dict)\n"
      ],
      "execution_count": 8,
      "outputs": []
    },
    {
      "cell_type": "code",
      "metadata": {
        "id": "XoRbXGnTj-hH",
        "colab": {
          "base_uri": "https://localhost:8080/"
        },
        "outputId": "3c7c97b2-0c78-447a-fa49-5a57a5cf8877"
      },
      "source": [
        "df = pd.read_csv('ban_unban_table.csv')\n",
        "\n",
        "date_list = df['created_at'].tolist()\n",
        "status_list = df['action'].tolist()\n",
        "ip_list = df['ip'].tolist()\n",
        "\n",
        "new_date_list = ban_separation_date_time(date_list)\n",
        "\n",
        "print(new_date_list)\n",
        "print(status_list)\n",
        "print(ip_list)"
      ],
      "execution_count": 9,
      "outputs": [
        {
          "output_type": "stream",
          "name": "stdout",
          "text": [
            "[datetime.datetime(2021, 10, 28, 20, 13, 0, 494701, tzinfo=tzlocal()), datetime.datetime(2021, 10, 28, 20, 12, 30, 510202, tzinfo=tzlocal()), datetime.datetime(2021, 10, 28, 20, 12, 30, 510202, tzinfo=tzlocal()), datetime.datetime(2021, 10, 28, 20, 12, 30, 510202, tzinfo=tzlocal()), datetime.datetime(2021, 10, 28, 20, 12, 30, 510202, tzinfo=tzlocal()), datetime.datetime(2021, 10, 28, 20, 12, 30, 510202, tzinfo=tzlocal()), datetime.datetime(2021, 10, 28, 20, 14, 0, 523427, tzinfo=tzlocal()), datetime.datetime(2021, 10, 28, 20, 14, 0, 523427, tzinfo=tzlocal()), datetime.datetime(2021, 10, 28, 20, 14, 0, 523427, tzinfo=tzlocal()), datetime.datetime(2021, 10, 28, 20, 14, 0, 523427, tzinfo=tzlocal()), datetime.datetime(2021, 10, 28, 20, 12, 0, 500445, tzinfo=tzlocal()), datetime.datetime(2021, 10, 28, 20, 12, 0, 500445, tzinfo=tzlocal()), datetime.datetime(2021, 10, 28, 20, 12, 0, 500445, tzinfo=tzlocal()), datetime.datetime(2021, 10, 28, 20, 15, 30, 488352, tzinfo=tzlocal()), datetime.datetime(2021, 10, 28, 20, 15, 30, 488352, tzinfo=tzlocal()), datetime.datetime(2021, 10, 28, 20, 15, 30, 488352, tzinfo=tzlocal()), datetime.datetime(2021, 10, 28, 20, 15, 0, 509610, tzinfo=tzlocal()), datetime.datetime(2021, 10, 28, 20, 15, 0, 509610, tzinfo=tzlocal()), datetime.datetime(2021, 10, 28, 20, 15, 0, 509610, tzinfo=tzlocal()), datetime.datetime(2021, 10, 28, 20, 15, 0, 509610, tzinfo=tzlocal()), datetime.datetime(2021, 10, 28, 20, 14, 30, 477761, tzinfo=tzlocal()), datetime.datetime(2021, 10, 28, 20, 14, 30, 477761, tzinfo=tzlocal()), datetime.datetime(2021, 10, 28, 20, 14, 30, 477761, tzinfo=tzlocal()), datetime.datetime(2021, 10, 28, 20, 13, 0, 494701, tzinfo=tzlocal()), datetime.datetime(2021, 10, 28, 20, 13, 0, 494701, tzinfo=tzlocal()), datetime.datetime(2021, 10, 28, 20, 13, 0, 494701, tzinfo=tzlocal()), datetime.datetime(2021, 10, 28, 20, 13, 30, 497635, tzinfo=tzlocal()), datetime.datetime(2021, 10, 28, 20, 13, 30, 497635, tzinfo=tzlocal()), datetime.datetime(2021, 10, 28, 20, 13, 30, 497635, tzinfo=tzlocal()), datetime.datetime(2021, 10, 28, 20, 15, 30, 488352, tzinfo=tzlocal()), datetime.datetime(2021, 10, 28, 20, 13, 0, 494701, tzinfo=tzlocal()), datetime.datetime(2021, 10, 28, 20, 13, 0, 494701, tzinfo=tzlocal()), datetime.datetime(2021, 10, 28, 20, 13, 0, 494701, tzinfo=tzlocal()), datetime.datetime(2021, 10, 28, 20, 13, 0, 494701, tzinfo=tzlocal()), datetime.datetime(2021, 10, 28, 20, 13, 30, 497635, tzinfo=tzlocal()), datetime.datetime(2021, 10, 28, 20, 13, 30, 497635, tzinfo=tzlocal()), datetime.datetime(2021, 10, 28, 20, 12, 30, 510202, tzinfo=tzlocal()), datetime.datetime(2021, 10, 28, 20, 12, 30, 510202, tzinfo=tzlocal()), datetime.datetime(2021, 10, 28, 20, 12, 30, 510202, tzinfo=tzlocal()), datetime.datetime(2021, 10, 28, 20, 14, 0, 523427, tzinfo=tzlocal()), datetime.datetime(2021, 10, 28, 20, 15, 30, 488352, tzinfo=tzlocal()), datetime.datetime(2021, 10, 28, 20, 15, 30, 488352, tzinfo=tzlocal()), datetime.datetime(2021, 10, 28, 20, 15, 30, 488352, tzinfo=tzlocal()), datetime.datetime(2021, 10, 28, 20, 15, 30, 488352, tzinfo=tzlocal()), datetime.datetime(2021, 10, 28, 20, 14, 30, 477761, tzinfo=tzlocal()), datetime.datetime(2021, 10, 28, 20, 14, 30, 477761, tzinfo=tzlocal()), datetime.datetime(2021, 10, 28, 20, 14, 30, 477761, tzinfo=tzlocal()), datetime.datetime(2021, 10, 28, 20, 15, 0, 509610, tzinfo=tzlocal()), datetime.datetime(2021, 10, 28, 20, 15, 0, 509610, tzinfo=tzlocal()), datetime.datetime(2021, 10, 28, 20, 15, 0, 509610, tzinfo=tzlocal()), datetime.datetime(2021, 10, 28, 20, 15, 0, 509610, tzinfo=tzlocal()), datetime.datetime(2021, 10, 28, 20, 15, 0, 509610, tzinfo=tzlocal()), datetime.datetime(2021, 10, 28, 20, 16, 0, 491098, tzinfo=tzlocal()), datetime.datetime(2021, 10, 28, 20, 16, 0, 491098, tzinfo=tzlocal())]\n",
            "['added', 'added', 'added', 'added', 'added', 'added', 'added', 'added', 'added', 'added', 'added', 'added', 'added', 'added', 'added', 'added', 'added', 'added', 'added', 'added', 'added', 'added', 'added', 'added', 'added', 'added', 'added', 'added', 'added', 'removed', 'removed', 'removed', 'removed', 'removed', 'removed', 'removed', 'removed', 'removed', 'removed', 'removed', 'removed', 'removed', 'removed', 'removed', 'removed', 'removed', 'removed', 'removed', 'removed', 'removed', 'removed', 'removed', 'removed', 'removed']\n",
            "['186.235.118.2', '123.231.141.42', '51.15.242.51', '198.37.103.70', '217.182.134.94', '169.255.129.111', '103.167.162.66', '2.50.155.186', '37.209.248.212', '45.88.12.226', '2.119.27.35', '51.15.242.51', '199.249.230.163', '198.37.103.70', '124.29.213.70', '217.182.134.94', '192.252.215.5', '103.8.115.27', '51.15.242.51', '124.29.213.70', '46.191.138.41', '2.180.1.142', '114.130.80.238', '198.37.103.70', '169.255.129.111', '2.50.155.186', '123.231.141.42', '217.182.134.94', '45.88.12.226', '192.252.215.5', '123.231.141.42', '198.37.103.70', '217.182.134.94', '169.255.129.111', '186.235.118.2', '2.50.155.186', '2.119.27.35', '51.15.242.51', '199.249.230.163', '45.88.12.226', '103.8.115.27', '123.231.141.42', '124.29.213.70', '217.182.134.94', '51.15.242.51', '103.167.162.66', '37.209.248.212', '46.191.138.41', '198.37.103.70', '169.255.129.111', '2.180.1.142', '114.130.80.238', '2.50.155.186', '45.88.12.226']\n"
          ]
        }
      ]
    },
    {
      "cell_type": "code",
      "metadata": {
        "id": "NeSrZ6PKyKSH"
      },
      "source": [
        "ban_dict = create_dict(new_date_list, status_list, ip_list)"
      ],
      "execution_count": 10,
      "outputs": []
    },
    {
      "cell_type": "code",
      "metadata": {
        "id": "_riqACW6zZei"
      },
      "source": [
        "def find_info_with_ip(ip):\n",
        "\n",
        "    m = geolite2.lookup(ip)\n",
        "\n",
        "    try:\n",
        "        country = m.country\n",
        "    except:\n",
        "        country = \"can't find country\"\n",
        "\n",
        "    try:\n",
        "        continent = m.continent\n",
        "    except:\n",
        "        continent = \"can't find continent\"\n",
        "\n",
        "    try:\n",
        "        timezone = m.timezone\n",
        "    except:\n",
        "        timezone = \"can't find timezone\"\n",
        "\n",
        "    return country, continent, timezone\n",
        "\n",
        "country, continent, timezone = find_info_with_ip('17.0.0.1')"
      ],
      "execution_count": 11,
      "outputs": []
    },
    {
      "cell_type": "code",
      "metadata": {
        "id": "Dk004zCpz-Cu",
        "colab": {
          "base_uri": "https://localhost:8080/"
        },
        "outputId": "156c9462-a14a-460b-9bdb-77755d58cc84"
      },
      "source": [
        "def separation_date_time(datetim):\n",
        "    #req_requset = re.compile(r'.([0-9]+.[0-9]+.[0-9]+).([0-9]+:[0-9]+:[0-9]+)(.[0-9]+.[0-9]+)')\n",
        "\n",
        "    #result = req_requset.match(datetime)\n",
        "    #date_and_time = result.group(1) + ' ' + result.group(2)\n",
        "\n",
        "    dt = dateparser(datetim)\n",
        "    new_datetime = dt.astimezone()\n",
        "    return  new_datetime.date(), new_datetime.time(), new_datetime\n",
        "\n",
        "date, time, new_datetime = separation_date_time('2019-01-22 03:56:14+03:30')\n",
        "print(new_datetime)"
      ],
      "execution_count": 12,
      "outputs": [
        {
          "output_type": "stream",
          "name": "stdout",
          "text": [
            "2019-01-22 00:26:14+00:00\n"
          ]
        }
      ]
    },
    {
      "cell_type": "code",
      "metadata": {
        "id": "2A5ZKk9k1rJH"
      },
      "source": [
        "def find_info_with_request(request):\n",
        "\n",
        "    url_scheme = None\n",
        "    url_netloc = None\n",
        "    url_path = None\n",
        "    url_params = None\n",
        "    url_query = None\n",
        "    url_fragment = None\n",
        "    \n",
        "    try:\n",
        "        method, url, http = request.split()\n",
        "\n",
        "        url_line = urlparse(url)\n",
        "\n",
        "        if url_line.scheme == '':\n",
        "            url_scheme = 'no url scheme'\n",
        "        else:\n",
        "            url_schem = url_line.scheme\n",
        "\n",
        "        if url_line.netloc == '':\n",
        "            url_netloc = 'no url netloc'\n",
        "        else:\n",
        "            url_netloc = url_line.netloc\n",
        "\n",
        "        if url_line.path == '':\n",
        "            url_path = 'no url path'\n",
        "        else:\n",
        "            url_path = url_line.path\n",
        "\n",
        "        if url_line.params == '':\n",
        "            url_params = 'no url params'\n",
        "        else:\n",
        "            url_params = url_line.params\n",
        "\n",
        "        if url_line.query == '':\n",
        "            url_query = 'no url query'\n",
        "        else:\n",
        "            url_query = url_line.query\n",
        "\n",
        "        if url_line.fragment == '':\n",
        "            url_fragment = 'no url fragment'\n",
        "        else:\n",
        "            url_fragment = url_line.fragment\n",
        "  \n",
        "    except:\n",
        "        method = 'error in request'\n",
        "        url_scheme = 'error in request'\n",
        "        url_netloc = 'error in request'\n",
        "        url_path = 'error in request'\n",
        "        url_params = 'error in request'\n",
        "        url_query = 'error in request'\n",
        "        url_fragment = 'error in request'\n",
        "        http = 'error in request'\n",
        "\n",
        "    return method, url_scheme, url_netloc, url_path, url_params, url_query, url_fragment, http\n",
        "\n",
        "method, url_scheme, url_netloc, url_path, url_params, url_query, url_fragment, http = find_info_with_request('GET /image/60844/productModel/200x200 HTTP/1.1')"
      ],
      "execution_count": 13,
      "outputs": []
    },
    {
      "cell_type": "code",
      "metadata": {
        "colab": {
          "base_uri": "https://localhost:8080/"
        },
        "id": "akpZB0Ri09mM",
        "outputId": "b5ef5673-9f27-4119-dc03-5adc237ce62c"
      },
      "source": [
        "def find_info_with_Useragent(useragent_line):\n",
        "    req_request = re.compile(r'([a-zA-z]+).')\n",
        "\n",
        "    user_agent = parse(useragent_line)\n",
        "\n",
        "    try:\n",
        "        os = user_agent.os.family\n",
        "    except:\n",
        "        os = 'no information'\n",
        "\n",
        "    try:\n",
        "        browser = user_agent.browser.family\n",
        "    except:\n",
        "        browser = 'no information'\n",
        "\n",
        "    try:\n",
        "        device = user_agent.device.family\n",
        "    except:\n",
        "        device = 'no information'\n",
        "\n",
        "    try:\n",
        "        result = req_request.match(useragent_line)\n",
        "        exit_system = result.group(1)\n",
        "    except:\n",
        "        exit_system = 'no information'\n",
        "\n",
        "    return exit_system, os, browser, device\n",
        "\n",
        "find_info_with_Useragent('Mozilla/5.0 (Linux; Android 6.0; ALE-L21 Build/HuaweiALE-L21) AppleWebKit/537.36 (KHTML, like Gecko) Chrome/66.0.3359.158 Mobile Safari/537.36')"
      ],
      "execution_count": 14,
      "outputs": [
        {
          "output_type": "execute_result",
          "data": {
            "text/plain": [
              "('Mozilla', 'Android', 'Chrome Mobile', 'ALE-L21')"
            ]
          },
          "metadata": {},
          "execution_count": 14
        }
      ]
    },
    {
      "cell_type": "code",
      "metadata": {
        "colab": {
          "base_uri": "https://localhost:8080/"
        },
        "id": "rbLrYAHtGoDU",
        "outputId": "e98e3789-be22-427f-c3f2-828b29169a32"
      },
      "source": [
        "def copy_size_return_object(size_object):\n",
        "\n",
        "\n",
        "    try:\n",
        "        new_size_return_object = int(size_object)\n",
        "    except:\n",
        "        new_size_return_object = 0\n",
        "\n",
        "    return new_size_return_object\n",
        "\n",
        "copy_size_return_object(5667)"
      ],
      "execution_count": 15,
      "outputs": [
        {
          "output_type": "execute_result",
          "data": {
            "text/plain": [
              "5667"
            ]
          },
          "metadata": {},
          "execution_count": 15
        }
      ]
    },
    {
      "cell_type": "code",
      "metadata": {
        "id": "aMB8u9WGgzz3"
      },
      "source": [
        "status_request_list = []"
      ],
      "execution_count": 16,
      "outputs": []
    },
    {
      "cell_type": "code",
      "metadata": {
        "id": "cFrF4mg-TL7W"
      },
      "source": [
        "def markup(datetim, ip, ban_dict, number):\n",
        "    keys_list = list(ban_dict.keys())\n",
        "    if ip in keys_list:\n",
        "        print(ip)\n",
        "        spis = ban_dict[ip]\n",
        "        if (datetim > spis[0] - datetime.timedelta(seconds=30)) and (datetim < spis[1]):\n",
        "            spis.pop(0)\n",
        "            spis.pop(1)\n",
        "            ban_dict[ip] = spis\n",
        "            print(number)\n",
        "            return 0 \n",
        "        else:\n",
        "            return 1 \n",
        "    else:\n",
        "        return 1\n",
        "    "
      ],
      "execution_count": 29,
      "outputs": []
    },
    {
      "cell_type": "code",
      "metadata": {
        "id": "p_JM83T70D-e"
      },
      "source": [
        "#col_names = ['country', 'continent', 'timezone', 'date', 'time', 'method', 'url_sheme', 'url_netloc', 'url_path', 'url_params', 'url_querty', 'url_fragment', 'http', 'status_code', 'size_object', 'exit_system', 'os', 'browser', 'device']\n",
        "my_df = pd.DataFrame()\n"
      ],
      "execution_count": 18,
      "outputs": []
    },
    {
      "cell_type": "code",
      "metadata": {
        "id": "bARoZghd0GUN",
        "colab": {
          "base_uri": "https://localhost:8080/"
        },
        "outputId": "2d47b7c3-df08-41b6-a1d3-b03912c957e3"
      },
      "source": [
        "parser2 = LogParser('%h %l %u %t \\\"%r\\\" %>s %b \\\"%{Referer}i\\\" \\\"%{User-Agent}i\\\"')\n",
        "\n",
        "ip_list = []\n",
        "country_list = []\n",
        "continent_list = []\n",
        "timezone_list = []\n",
        "date_list = []\n",
        "time_list = []\n",
        "datetime_list = []\n",
        "method_list = []\n",
        "url_scheme_list = []\n",
        "url_netloc_list = []\n",
        "url_path_list = []\n",
        "url_params_list = []\n",
        "url_query_list = []\n",
        "url_fragment_list = []\n",
        "http_list = []\n",
        "size_return_object_list = []\n",
        "exit_system_list = []\n",
        "os_list = []\n",
        "browser_list = []\n",
        "device_list = []\n",
        "status_code_list = []\n",
        "status_request_list = []\n",
        "number = 0\n",
        "\n",
        "\n",
        "\n",
        "\n",
        "with open('my.srvgame.ru.access.log') as fp:  # doctest: +SKIP\n",
        "    for entry in parser2.parse_lines(fp):\n",
        "        country, continent, timezone = find_info_with_ip(str(entry.remote_host))\n",
        "        date, time, datetim = separation_date_time(str(entry.directives['%t']))\n",
        "        method, url_scheme, url_netloc, url_path, url_params, url_query, url_fragment, http = find_info_with_request(str(entry.request_line))\n",
        "        status_code = entry.directives['%>s']\n",
        "        size_return_object = copy_size_return_object(entry.directives['%b'])\n",
        "        exit_system, os, browser, device = find_info_with_Useragent(str(entry.directives['%{User-Agent}i']))\n",
        "        mark = markup(datetim, str(entry.remote_host), ban_dict, number)\n",
        "\n",
        "        ip_list.append(str(entry.remote_host))\n",
        "        status_code_list.append(status_code)\n",
        "        country_list.append(country)\n",
        "        continent_list.append(continent)\n",
        "        timezone_list.append(timezone)\n",
        "        date_list.append(date)\n",
        "        time_list.append(time)\n",
        "        datetime_list.append(datetim)\n",
        "        method_list.append(method)\n",
        "        url_scheme_list.append(url_scheme)\n",
        "        url_netloc_list.append(url_netloc)\n",
        "        url_path_list.append(url_path)\n",
        "        url_params_list.append(url_params)\n",
        "        url_query_list.append(url_query)\n",
        "        url_fragment_list.append(url_fragment)\n",
        "        http_list.append(http)\n",
        "        size_return_object_list.append(size_return_object)\n",
        "        exit_system_list.append(exit_system)\n",
        "        os_list.append(os)\n",
        "        browser_list.append(browser)\n",
        "        device_list.append(device)\n",
        "        status_request_list.append(mark)\n",
        "        number = number + 1\n",
        "\n",
        "\n",
        "\n",
        "my_df['ip'] = ip_list\n",
        "my_df['country'] = country_list\n",
        "my_df['continent'] = continent_list\n",
        "my_df['timezone'] = timezone_list\n",
        "my_df['datetime'] = datetime_list\n",
        "my_df['date'] = date_list\n",
        "my_df['time'] = time_list\n",
        "my_df['method'] = method_list\n",
        "my_df['url_sheme'] = url_scheme_list\n",
        "my_df['url_netloc'] = url_netloc_list\n",
        "my_df['url_path'] = url_path_list\n",
        "my_df['url_params'] = url_params_list\n",
        "my_df['url_querty'] = url_query_list\n",
        "my_df['url_fragment'] = url_fragment_list\n",
        "my_df['http'] = http_list\n",
        "my_df['status_code'] = status_code_list\n",
        "my_df['size_object'] = size_return_object_list\n",
        "my_df['exit_system'] = exit_system_list\n",
        "my_df['os'] = os_list\n",
        "my_df['browser'] = browser_list\n",
        "my_df['device'] = device_list\n",
        "my_df['markup'] = status_request_list\n",
        "my_df.to_csv('DICT_FOR_LEARN.csv', header=True, sep=';')\n"
      ],
      "execution_count": 30,
      "outputs": [
        {
          "output_type": "stream",
          "name": "stdout",
          "text": [
            "46.191.138.41\n",
            "46.191.138.41\n",
            "46.191.138.41\n",
            "46.191.138.41\n",
            "46.191.138.41\n",
            "46.191.138.41\n",
            "46.191.138.41\n",
            "46.191.138.41\n",
            "46.191.138.41\n",
            "46.191.138.41\n"
          ]
        }
      ]
    },
    {
      "cell_type": "code",
      "metadata": {
        "colab": {
          "base_uri": "https://localhost:8080/"
        },
        "id": "vGVbu3Xw8hyR",
        "outputId": "a9181d0b-0914-4ce0-8d30-32d2cd6e1c17"
      },
      "source": [
        "print(my_df['datetime'])"
      ],
      "execution_count": 20,
      "outputs": [
        {
          "output_type": "stream",
          "name": "stdout",
          "text": [
            "0       2021-10-28 03:26:08+00:00\n",
            "1       2021-10-28 03:29:32+00:00\n",
            "2       2021-10-28 03:29:32+00:00\n",
            "3       2021-10-28 03:29:33+00:00\n",
            "4       2021-10-28 03:29:33+00:00\n",
            "                   ...           \n",
            "15129   2021-10-29 03:19:05+00:00\n",
            "15130   2021-10-29 03:19:29+00:00\n",
            "15131   2021-10-29 03:20:40+00:00\n",
            "15132   2021-10-29 03:22:06+00:00\n",
            "15133   2021-10-29 03:22:10+00:00\n",
            "Name: datetime, Length: 15134, dtype: datetime64[ns, UTC]\n"
          ]
        }
      ]
    },
    {
      "cell_type": "code",
      "metadata": {
        "id": "vuMV23eX0ImK",
        "colab": {
          "base_uri": "https://localhost:8080/"
        },
        "outputId": "7233e994-a431-47ac-c872-27380618b75a"
      },
      "source": [
        "print(df.columns)"
      ],
      "execution_count": 22,
      "outputs": [
        {
          "output_type": "stream",
          "name": "stdout",
          "text": [
            "Index(['instance_id', 'instance_name', 'created_at', 'action', 'ip', 'source',\n",
            "       'country', 'city', 'as_number', 'as_name'],\n",
            "      dtype='object')\n"
          ]
        }
      ]
    }
  ]
}