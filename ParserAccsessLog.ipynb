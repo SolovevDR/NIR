{
  "nbformat": 4,
  "nbformat_minor": 0,
  "metadata": {
    "colab": {
      "name": "ParserAccsessLog.ipynb",
      "provenance": [],
      "collapsed_sections": []
    },
    "kernelspec": {
      "name": "python3",
      "display_name": "Python 3"
    },
    "language_info": {
      "name": "python"
    }
  },
  "cells": [
    {
      "cell_type": "markdown",
      "metadata": {
        "id": "0EgI-WCt0Osw"
      },
      "source": [
        "# Подготовка среды для работы(запускать строго в этом порядке, не будет иначе geoip работать)"
      ]
    },
    {
      "cell_type": "code",
      "metadata": {
        "colab": {
          "base_uri": "https://localhost:8080/"
        },
        "id": "vvV0dviizEQP",
        "outputId": "fc9df7ba-1b1f-4b3f-b4cc-d5f500ae328b"
      },
      "source": [
        "pip install python-geoip-geolite2"
      ],
      "execution_count": null,
      "outputs": [
        {
          "output_type": "stream",
          "name": "stdout",
          "text": [
            "Requirement already satisfied: python-geoip-geolite2 in /usr/local/lib/python3.7/dist-packages (2015.303)\n",
            "Requirement already satisfied: python-geoip in /usr/local/lib/python3.7/dist-packages (from python-geoip-geolite2) (1.2)\n"
          ]
        }
      ]
    },
    {
      "cell_type": "code",
      "metadata": {
        "colab": {
          "base_uri": "https://localhost:8080/"
        },
        "id": "iyBFyUXazLae",
        "outputId": "7c1a5d16-9a2f-4786-ff6c-760f291af01b"
      },
      "source": [
        "pip install python-geoip-python3"
      ],
      "execution_count": null,
      "outputs": [
        {
          "output_type": "stream",
          "name": "stdout",
          "text": [
            "Requirement already satisfied: python-geoip-python3 in /usr/local/lib/python3.7/dist-packages (1.3)\n"
          ]
        }
      ]
    },
    {
      "cell_type": "code",
      "metadata": {
        "colab": {
          "base_uri": "https://localhost:8080/"
        },
        "id": "g4YZN9zqzjzr",
        "outputId": "add75cc9-61fe-45d2-f30f-853b93bb0bf7"
      },
      "source": [
        "pip install user_agents"
      ],
      "execution_count": null,
      "outputs": [
        {
          "output_type": "stream",
          "name": "stdout",
          "text": [
            "Requirement already satisfied: user_agents in /usr/local/lib/python3.7/dist-packages (2.2.0)\n",
            "Requirement already satisfied: ua-parser>=0.10.0 in /usr/local/lib/python3.7/dist-packages (from user_agents) (0.10.0)\n"
          ]
        }
      ]
    },
    {
      "cell_type": "code",
      "metadata": {
        "colab": {
          "base_uri": "https://localhost:8080/"
        },
        "id": "vdyQiss8zndX",
        "outputId": "9b55f141-28a2-4b77-93cb-1ded3a8a072a"
      },
      "source": [
        "pip install apachelogs"
      ],
      "execution_count": null,
      "outputs": [
        {
          "output_type": "stream",
          "name": "stdout",
          "text": [
            "Requirement already satisfied: apachelogs in /usr/local/lib/python3.7/dist-packages (0.6.0)\n",
            "Requirement already satisfied: pydicti~=1.1 in /usr/local/lib/python3.7/dist-packages (from apachelogs) (1.1.4)\n",
            "Requirement already satisfied: attrs>=17.1 in /usr/local/lib/python3.7/dist-packages (from apachelogs) (21.2.0)\n"
          ]
        }
      ]
    },
    {
      "cell_type": "code",
      "metadata": {
        "id": "5sP0X12pzp1b"
      },
      "source": [
        "import os\n",
        "os.chdir('/content/drive/MyDrive/Colab Notebooks')"
      ],
      "execution_count": null,
      "outputs": []
    },
    {
      "cell_type": "markdown",
      "metadata": {
        "id": "c15vC0Ho0jm4"
      },
      "source": [
        "\n",
        "\n",
        "---\n",
        "---\n",
        "---\n",
        "\n"
      ]
    },
    {
      "cell_type": "code",
      "metadata": {
        "id": "hEhZrncizRpi"
      },
      "source": [
        "import time \n",
        "import pandas as pd\n",
        "from urllib.parse import urlparse\n",
        "import re\n",
        "from dateutil.parser import parse as dateparser\n",
        "from user_agents import parse\n",
        "from geoip import geolite2\n",
        "import datetime\n",
        "from apachelogs import LogParser"
      ],
      "execution_count": null,
      "outputs": []
    },
    {
      "cell_type": "code",
      "metadata": {
        "colab": {
          "base_uri": "https://localhost:8080/"
        },
        "id": "-fIK4VSk-Fk_",
        "outputId": "f0c2df4a-bdad-4f51-b8b2-fc4490f617d6"
      },
      "source": [
        "def ban_separation_date_time(datetime):\n",
        "    req_requset = re.compile(r'([0-9]+.[0-9]+.[0-9]+).([0-9]+:[0-9]+:[0-9]+.[0-9]+).(.[0-9]+)')\n",
        "    date_and_time_list = []\n",
        "    for i in range(len(datetime)):\n",
        "        result = req_requset.match(datetime[i])\n",
        "        date_and_time = result.group(1) + ' ' + result.group(2) + result.group(3)\n",
        "\n",
        "        dt = dateparser(date_and_time)\n",
        "        date_and_time_list.append(str(dt))\n",
        "    return  date_and_time_list\n",
        "\n",
        "ban_separation_date_time(['2021-10-05 22:51:16.972634 +0000 UTC'])"
      ],
      "execution_count": null,
      "outputs": [
        {
          "output_type": "execute_result",
          "data": {
            "text/plain": [
              "['2021-10-05 22:51:16.972634+00:00']"
            ]
          },
          "metadata": {},
          "execution_count": 7
        }
      ]
    },
    {
      "cell_type": "code",
      "metadata": {
        "id": "XoRbXGnTj-hH"
      },
      "source": [
        "df = pd.read_csv('ban_unban_table.csv')\n",
        "date_list = df['created_at'].tolist()\n",
        "new_date_list = ban_separation_date_time(date_list)\n",
        "df['created_at'] = new_date_list\n",
        "df['created_at_ip'] = df['created_at'] + df['ip']\n",
        "ban_created_time_list = df['created_at_ip'].tolist()\n",
        "action_list = df['action'].tolist()"
      ],
      "execution_count": null,
      "outputs": []
    },
    {
      "cell_type": "code",
      "metadata": {
        "id": "_riqACW6zZei"
      },
      "source": [
        "def find_info_with_ip(ip):\n",
        "\n",
        "    m = geolite2.lookup(ip)\n",
        "\n",
        "    try:\n",
        "        country = m.country\n",
        "    except:\n",
        "        country = \"can't find country\"\n",
        "\n",
        "    try:\n",
        "        continent = m.continent\n",
        "    except:\n",
        "        continent = \"can't find continent\"\n",
        "\n",
        "    try:\n",
        "        timezone = m.timezone\n",
        "    except:\n",
        "        timezone = \"can't find timezone\"\n",
        "\n",
        "    return country, continent, timezone\n",
        "\n",
        "country, continent, timezone = find_info_with_ip('17.0.0.1')"
      ],
      "execution_count": null,
      "outputs": []
    },
    {
      "cell_type": "code",
      "metadata": {
        "id": "Dk004zCpz-Cu",
        "colab": {
          "base_uri": "https://localhost:8080/"
        },
        "outputId": "fccae5ef-3363-4227-a585-a73c7447ccd3"
      },
      "source": [
        "def separation_date_time(datetime):\n",
        "    #req_requset = re.compile(r'.([0-9]+.[0-9]+.[0-9]+).([0-9]+:[0-9]+:[0-9]+)(.[0-9]+.[0-9]+)')\n",
        "\n",
        "    #result = req_requset.match(datetime)\n",
        "    #date_and_time = result.group(1) + ' ' + result.group(2)\n",
        "\n",
        "    dt = dateparser(datetime)\n",
        "    new_datetime = dt.astimezone()\n",
        "    return  new_datetime.date(), new_datetime.time(), str(new_datetime)\n",
        "\n",
        "date, time, new_datetime = separation_date_time('2019-01-22 03:56:14+03:30')\n",
        "print(new_datetime)"
      ],
      "execution_count": null,
      "outputs": [
        {
          "output_type": "stream",
          "name": "stdout",
          "text": [
            "2019-01-22 00:26:14+00:00\n"
          ]
        }
      ]
    },
    {
      "cell_type": "code",
      "metadata": {
        "id": "2A5ZKk9k1rJH"
      },
      "source": [
        "def find_info_with_request(request):\n",
        "\n",
        "    url_scheme = None\n",
        "    url_netloc = None\n",
        "    url_path = None\n",
        "    url_params = None\n",
        "    url_query = None\n",
        "    url_fragment = None\n",
        "    \n",
        "    try:\n",
        "        method, url, http = request.split()\n",
        "\n",
        "        url_line = urlparse(url)\n",
        "\n",
        "        if url_line.scheme == '':\n",
        "            url_scheme = 'no url scheme'\n",
        "        else:\n",
        "            url_schem = url_line.scheme\n",
        "\n",
        "        if url_line.netloc == '':\n",
        "            url_netloc = 'no url netloc'\n",
        "        else:\n",
        "            url_netloc = url_line.netloc\n",
        "\n",
        "        if url_line.path == '':\n",
        "            url_path = 'no url path'\n",
        "        else:\n",
        "            url_path = url_line.path\n",
        "\n",
        "        if url_line.params == '':\n",
        "            url_params = 'no url params'\n",
        "        else:\n",
        "            url_params = url_line.params\n",
        "\n",
        "        if url_line.query == '':\n",
        "            url_query = 'no url query'\n",
        "        else:\n",
        "            url_query = url_line.query\n",
        "\n",
        "        if url_line.fragment == '':\n",
        "            url_fragment = 'no url fragment'\n",
        "        else:\n",
        "            url_fragment = url_line.fragment\n",
        "  \n",
        "    except:\n",
        "        method = 'error in request'\n",
        "        url_scheme = 'error in request'\n",
        "        url_netloc = 'error in request'\n",
        "        url_path = 'error in request'\n",
        "        url_params = 'error in request'\n",
        "        url_query = 'error in request'\n",
        "        url_fragment = 'error in request'\n",
        "        http = 'error in request'\n",
        "\n",
        "    return method, url_scheme, url_netloc, url_path, url_params, url_query, url_fragment, http\n",
        "\n",
        "method, url_scheme, url_netloc, url_path, url_params, url_query, url_fragment, http = find_info_with_request('GET /image/60844/productModel/200x200 HTTP/1.1')"
      ],
      "execution_count": null,
      "outputs": []
    },
    {
      "cell_type": "code",
      "metadata": {
        "colab": {
          "base_uri": "https://localhost:8080/"
        },
        "id": "akpZB0Ri09mM",
        "outputId": "666cae4c-77b1-4f1d-a9e5-cfe6c94a2d55"
      },
      "source": [
        "def find_info_with_Useragent(useragent_line):\n",
        "    req_request = re.compile(r'([a-zA-z]+).')\n",
        "\n",
        "    user_agent = parse(useragent_line)\n",
        "\n",
        "    try:\n",
        "        os = user_agent.os.family\n",
        "    except:\n",
        "        os = 'no information'\n",
        "\n",
        "    try:\n",
        "        browser = user_agent.browser.family\n",
        "    except:\n",
        "        browser = 'no information'\n",
        "\n",
        "    try:\n",
        "        device = user_agent.device.family\n",
        "    except:\n",
        "        device = 'no information'\n",
        "\n",
        "    try:\n",
        "        result = req_request.match(useragent_line)\n",
        "        exit_system = result.group(1)\n",
        "    except:\n",
        "        exit_system = 'no information'\n",
        "\n",
        "    return exit_system, os, browser, device\n",
        "\n",
        "find_info_with_Useragent('Mozilla/5.0 (Linux; Android 6.0; ALE-L21 Build/HuaweiALE-L21) AppleWebKit/537.36 (KHTML, like Gecko) Chrome/66.0.3359.158 Mobile Safari/537.36')"
      ],
      "execution_count": null,
      "outputs": [
        {
          "output_type": "execute_result",
          "data": {
            "text/plain": [
              "('Mozilla', 'Android', 'Chrome Mobile', 'ALE-L21')"
            ]
          },
          "metadata": {},
          "execution_count": 12
        }
      ]
    },
    {
      "cell_type": "code",
      "metadata": {
        "colab": {
          "base_uri": "https://localhost:8080/"
        },
        "id": "rbLrYAHtGoDU",
        "outputId": "85ec61b3-eb78-4d6d-ec56-11cf8170acff"
      },
      "source": [
        "def copy_size_return_object(size_object):\n",
        "\n",
        "\n",
        "    try:\n",
        "        new_size_return_object = int(size_object)\n",
        "    except:\n",
        "        new_size_return_object = 0\n",
        "\n",
        "    return new_size_return_object\n",
        "\n",
        "copy_size_return_object(5667)"
      ],
      "execution_count": null,
      "outputs": [
        {
          "output_type": "execute_result",
          "data": {
            "text/plain": [
              "5667"
            ]
          },
          "metadata": {},
          "execution_count": 13
        }
      ]
    },
    {
      "cell_type": "code",
      "metadata": {
        "id": "aMB8u9WGgzz3"
      },
      "source": [
        "status_request_list = []"
      ],
      "execution_count": null,
      "outputs": []
    },
    {
      "cell_type": "code",
      "metadata": {
        "id": "cFrF4mg-TL7W"
      },
      "source": [
        "def markup(created_time):\n",
        "    if created_time in ban_created_time_list:\n",
        "        index = ban_created_time_list.index(created_time)\n",
        "        if action_list[index] == 'added':\n",
        "            status_request_list.append(0)\n",
        "            print(created_time)\n",
        "        else:\n",
        "            status_request_list.append(1)\n",
        "    else:\n",
        "        status_request_list.append(1) #если 1, то запрос не ввносится в бан лист\n",
        "                                      #если 0, то запрос вносится в бан лист \n",
        "    "
      ],
      "execution_count": null,
      "outputs": []
    },
    {
      "cell_type": "code",
      "metadata": {
        "id": "p_JM83T70D-e"
      },
      "source": [
        "#col_names = ['country', 'continent', 'timezone', 'date', 'time', 'method', 'url_sheme', 'url_netloc', 'url_path', 'url_params', 'url_querty', 'url_fragment', 'http', 'status_code', 'size_object', 'exit_system', 'os', 'browser', 'device']\n",
        "my_df = pd.DataFrame()\n"
      ],
      "execution_count": null,
      "outputs": []
    },
    {
      "cell_type": "code",
      "metadata": {
        "id": "bARoZghd0GUN"
      },
      "source": [
        "parser2 = LogParser('%h %l %u %t \\\"%r\\\" %>s %b \\\"%{Referer}i\\\" \\\"%{User-Agent}i\\\" \\\"%{X}i\\\"')\n",
        "\n",
        "ip_list = []\n",
        "country_list = []\n",
        "continent_list = []\n",
        "timezone_list = []\n",
        "date_list = []\n",
        "time_list = []\n",
        "datetime_list = []\n",
        "method_list = []\n",
        "url_scheme_list = []\n",
        "url_netloc_list = []\n",
        "url_path_list = []\n",
        "url_params_list = []\n",
        "url_query_list = []\n",
        "url_fragment_list = []\n",
        "http_list = []\n",
        "size_return_object_list = []\n",
        "exit_system_list = []\n",
        "os_list = []\n",
        "browser_list = []\n",
        "device_list = []\n",
        "status_code_list = []\n",
        "number = 0\n",
        "\n",
        "with open('1.log') as fp:  # doctest: +SKIP\n",
        "    for entry in parser2.parse_lines(fp):\n",
        "        country, continent, timezone = find_info_with_ip(str(entry.remote_host))\n",
        "        date, time, datetime = separation_date_time(str(entry.directives['%t']))\n",
        "        method, url_scheme, url_netloc, url_path, url_params, url_query, url_fragment, http = find_info_with_request(str(entry.request_line))\n",
        "        status_code = entry.directives['%>s']\n",
        "        size_return_object = copy_size_return_object(entry.directives['%b'])\n",
        "        exit_system, os, browser, device = find_info_with_Useragent(str(entry.directives['%{User-Agent}i']))\n",
        "        created_time = datetime + str(entry.remote_host)\n",
        "        markup(created_time)\n",
        "\n",
        "        ip_list.append(str(entry.remote_host))\n",
        "        status_code_list.append(status_code)\n",
        "        country_list.append(country)\n",
        "        continent_list.append(continent)\n",
        "        timezone_list.append(timezone)\n",
        "        date_list.append(date)\n",
        "        time_list.append(time)\n",
        "        datetime_list.append(datetime)\n",
        "        method_list.append(method)\n",
        "        url_scheme_list.append(url_scheme)\n",
        "        url_netloc_list.append(url_netloc)\n",
        "        url_path_list.append(url_path)\n",
        "        url_params_list.append(url_params)\n",
        "        url_query_list.append(url_query)\n",
        "        url_fragment_list.append(url_fragment)\n",
        "        http_list.append(http)\n",
        "        size_return_object_list.append(size_return_object)\n",
        "        exit_system_list.append(exit_system)\n",
        "        os_list.append(os)\n",
        "        browser_list.append(browser)\n",
        "        device_list.append(device)\n",
        "        \n",
        "\n",
        "\n",
        "\n",
        "my_df['ip'] = ip_list\n",
        "my_df['country'] = country_list\n",
        "my_df['continent'] = continent_list\n",
        "my_df['timezone'] = timezone_list\n",
        "my_df['datetime'] = datetime_list\n",
        "my_df['date'] = date_list\n",
        "my_df['time'] = time_list\n",
        "my_df['method'] = method_list\n",
        "my_df['url_sheme'] = url_scheme_list\n",
        "my_df['url_netloc'] = url_netloc_list\n",
        "my_df['url_path'] = url_path_list\n",
        "my_df['url_params'] = url_params_list\n",
        "my_df['url_querty'] = url_query_list\n",
        "my_df['url_fragment'] = url_fragment_list\n",
        "my_df['http'] = http_list\n",
        "my_df['status_code'] = status_code_list\n",
        "my_df['size_object'] = size_return_object_list\n",
        "my_df['exit_system'] = exit_system_list\n",
        "my_df['os'] = os_list\n",
        "my_df['browser'] = browser_list\n",
        "my_df['device'] = device_list\n",
        "my_df['markup'] = status_request_list\n"
      ],
      "execution_count": null,
      "outputs": []
    },
    {
      "cell_type": "code",
      "metadata": {
        "colab": {
          "base_uri": "https://localhost:8080/"
        },
        "id": "vGVbu3Xw8hyR",
        "outputId": "c69330f8-27f3-404b-b667-204c4e38e17e"
      },
      "source": [
        "print(my_df['datetime'])"
      ],
      "execution_count": null,
      "outputs": [
        {
          "output_type": "stream",
          "name": "stdout",
          "text": [
            "0       2019-01-22 00:26:14+00:00\n",
            "1       2019-01-22 00:26:16+00:00\n",
            "2       2019-01-22 00:26:16+00:00\n",
            "3       2019-01-22 00:26:17+00:00\n",
            "4       2019-01-22 00:26:17+00:00\n",
            "                  ...            \n",
            "4159    2019-01-22 00:42:11+00:00\n",
            "4160    2019-01-22 00:42:11+00:00\n",
            "4161    2019-01-22 00:42:12+00:00\n",
            "4162    2019-01-22 00:42:13+00:00\n",
            "4163    2019-01-22 00:42:13+00:00\n",
            "Name: datetime, Length: 4164, dtype: object\n"
          ]
        }
      ]
    },
    {
      "cell_type": "code",
      "metadata": {
        "id": "yupDz4yN7m8B"
      },
      "source": [
        "my_df.to_csv('DICT_FOR_LEARN.csv', header=True, sep=';')"
      ],
      "execution_count": null,
      "outputs": []
    },
    {
      "cell_type": "code",
      "metadata": {
        "id": "vuMV23eX0ImK",
        "colab": {
          "base_uri": "https://localhost:8080/"
        },
        "outputId": "2e1d1e75-bdc4-4a6b-84d1-317b1c2ec96b"
      },
      "source": [
        "print(df.columns)"
      ],
      "execution_count": null,
      "outputs": [
        {
          "output_type": "stream",
          "name": "stdout",
          "text": [
            "Index(['instance_id', 'instance_name', 'created_at', 'action', 'ip', 'source',\n",
            "       'country', 'city', 'as_number', 'as_name', 'created_at_ip'],\n",
            "      dtype='object')\n"
          ]
        }
      ]
    }
  ]
}