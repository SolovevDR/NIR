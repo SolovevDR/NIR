{
  "nbformat": 4,
  "nbformat_minor": 0,
  "metadata": {
    "colab": {
      "name": "ParserAccsessLog.ipynb",
      "provenance": [],
      "collapsed_sections": [],
      "mount_file_id": "1MbK4JhwhTdH3OMOnYnQqyXS43P7TsgQf",
      "authorship_tag": "ABX9TyNnzkzVOX4usgNcqsQNQTKp",
      "include_colab_link": true
    },
    "kernelspec": {
      "name": "python3",
      "display_name": "Python 3"
    },
    "language_info": {
      "name": "python"
    }
  },
  "cells": [
    {
      "cell_type": "markdown",
      "metadata": {
        "id": "view-in-github",
        "colab_type": "text"
      },
      "source": [
        "<a href=\"https://colab.research.google.com/github/SolovevDR/NIR/blob/main/ParserAccsessLog.ipynb\" target=\"_parent\"><img src=\"https://colab.research.google.com/assets/colab-badge.svg\" alt=\"Open In Colab\"/></a>"
      ]
    },
    {
      "cell_type": "markdown",
      "metadata": {
        "id": "0EgI-WCt0Osw"
      },
      "source": [
        "# Подготовка среды для работы(запускать строго в этом порядке, не будет иначе geoip работать)"
      ]
    },
    {
      "cell_type": "code",
      "metadata": {
        "colab": {
          "base_uri": "https://localhost:8080/"
        },
        "id": "vvV0dviizEQP",
        "outputId": "c01407a8-45c0-4817-d896-f4e681ad361c"
      },
      "source": [
        "pip install python-geoip-geolite2"
      ],
      "execution_count": 1,
      "outputs": [
        {
          "output_type": "stream",
          "name": "stdout",
          "text": [
            "Requirement already satisfied: python-geoip-geolite2 in /usr/local/lib/python3.7/dist-packages (2015.303)\n",
            "Requirement already satisfied: python-geoip in /usr/local/lib/python3.7/dist-packages (from python-geoip-geolite2) (1.2)\n"
          ]
        }
      ]
    },
    {
      "cell_type": "code",
      "metadata": {
        "colab": {
          "base_uri": "https://localhost:8080/"
        },
        "id": "iyBFyUXazLae",
        "outputId": "45dcbb7e-0f67-4132-bede-4d755879b15f"
      },
      "source": [
        "pip install python-geoip-python3"
      ],
      "execution_count": 2,
      "outputs": [
        {
          "output_type": "stream",
          "name": "stdout",
          "text": [
            "Requirement already satisfied: python-geoip-python3 in /usr/local/lib/python3.7/dist-packages (1.3)\n"
          ]
        }
      ]
    },
    {
      "cell_type": "code",
      "metadata": {
        "colab": {
          "base_uri": "https://localhost:8080/"
        },
        "id": "g4YZN9zqzjzr",
        "outputId": "031c7b17-f108-453f-ddbb-ed5faeb6d83a"
      },
      "source": [
        "pip install user_agents"
      ],
      "execution_count": 3,
      "outputs": [
        {
          "output_type": "stream",
          "name": "stdout",
          "text": [
            "Requirement already satisfied: user_agents in /usr/local/lib/python3.7/dist-packages (2.2.0)\n",
            "Requirement already satisfied: ua-parser>=0.10.0 in /usr/local/lib/python3.7/dist-packages (from user_agents) (0.10.0)\n"
          ]
        }
      ]
    },
    {
      "cell_type": "code",
      "metadata": {
        "colab": {
          "base_uri": "https://localhost:8080/"
        },
        "id": "vdyQiss8zndX",
        "outputId": "1b5af6ea-4dd5-46ce-8c66-68f6a675462c"
      },
      "source": [
        "pip install apachelogs"
      ],
      "execution_count": 4,
      "outputs": [
        {
          "output_type": "stream",
          "name": "stdout",
          "text": [
            "Requirement already satisfied: apachelogs in /usr/local/lib/python3.7/dist-packages (0.6.0)\n",
            "Requirement already satisfied: attrs>=17.1 in /usr/local/lib/python3.7/dist-packages (from apachelogs) (21.2.0)\n",
            "Requirement already satisfied: pydicti~=1.1 in /usr/local/lib/python3.7/dist-packages (from apachelogs) (1.1.6)\n"
          ]
        }
      ]
    },
    {
      "cell_type": "code",
      "metadata": {
        "colab": {
          "base_uri": "https://localhost:8080/"
        },
        "id": "cfZVsOmFoMM1",
        "outputId": "8615de60-f45e-47d2-a351-69c0460387ca"
      },
      "source": [
        "pip install datetime"
      ],
      "execution_count": 5,
      "outputs": [
        {
          "output_type": "stream",
          "name": "stdout",
          "text": [
            "Requirement already satisfied: datetime in /usr/local/lib/python3.7/dist-packages (4.3)\n",
            "Requirement already satisfied: zope.interface in /usr/local/lib/python3.7/dist-packages (from datetime) (5.4.0)\n",
            "Requirement already satisfied: pytz in /usr/local/lib/python3.7/dist-packages (from datetime) (2018.9)\n",
            "Requirement already satisfied: setuptools in /usr/local/lib/python3.7/dist-packages (from zope.interface->datetime) (57.4.0)\n"
          ]
        }
      ]
    },
    {
      "cell_type": "code",
      "metadata": {
        "id": "5sP0X12pzp1b"
      },
      "source": [
        "import os\n",
        "os.chdir('/content/drive/MyDrive/Colab Notebooks/NIR')"
      ],
      "execution_count": 6,
      "outputs": []
    },
    {
      "cell_type": "markdown",
      "metadata": {
        "id": "c15vC0Ho0jm4"
      },
      "source": [
        "\n",
        "\n",
        "---\n",
        "---\n",
        "---\n",
        "\n"
      ]
    },
    {
      "cell_type": "code",
      "metadata": {
        "id": "hEhZrncizRpi"
      },
      "source": [
        "import time \n",
        "import pandas as pd\n",
        "from urllib.parse import urlparse\n",
        "import re\n",
        "from dateutil.parser import parse as dateparser\n",
        "from user_agents import parse\n",
        "from geoip import geolite2\n",
        "import datetime\n",
        "from apachelogs import LogParser\n",
        "from nltk.stem.porter import PorterStemmer"
      ],
      "execution_count": 7,
      "outputs": []
    },
    {
      "cell_type": "code",
      "metadata": {
        "id": "-fIK4VSk-Fk_"
      },
      "source": [
        "def ban_separation_date_time(datetim):\n",
        "    req_requset = re.compile(r'([0-9]+.[0-9]+.[0-9]+).([0-9]+:[0-9]+:[0-9]+.[0-9]+).(.[0-9]+)')\n",
        "    date_and_time_list = []\n",
        "    for i in range(len(datetim)):\n",
        "        result = req_requset.match(datetim[i])\n",
        "        date_and_time = result.group(1) + ' ' + result.group(2) + result.group(3)\n",
        "\n",
        "        dt = dateparser(date_and_time)\n",
        "        date_and_time_list.append(dt)\n",
        "    return  date_and_time_list\n",
        "\n",
        "a = ban_separation_date_time(['2021-10-05 22:51:16.972634 +0000 UTC'])"
      ],
      "execution_count": 8,
      "outputs": []
    },
    {
      "cell_type": "code",
      "metadata": {
        "id": "IZo2IhP7RXNH"
      },
      "source": [
        "lem_word = []"
      ],
      "execution_count": 9,
      "outputs": []
    },
    {
      "cell_type": "code",
      "metadata": {
        "id": "et_yDafQgFQc"
      },
      "source": [
        "def create_dict(new_date_list, status_list, ip_list):\n",
        "    count_word_in_dict = 0\n",
        "    ban_dict = {}\n",
        "    minus_time = datetime.timedelta(seconds=30)\n",
        "    for i in range(len(new_date_list)):\n",
        "        add_time = new_date_list[i] - minus_time\n",
        "        if (status_list[i] == 'added'):\n",
        "            if ban_dict.get(ip_list[i]) == None: \n",
        "                ban_dict[ip_list[i]] = [add_time]\n",
        "                count_word_in_dict += 1\n",
        "            else: \n",
        "                spis = ban_dict[ip_list[i]]\n",
        "                spis.append(add_time)\n",
        "                ban_dict[ip_list[i]] = spis\n",
        "                count_word_in_dict += 1\n",
        "        elif (status_list[i] == 'removed') and (ban_dict.get(ip_list[i]) == None):\n",
        "            b = add_time\n",
        "            b = b - datetime.timedelta(minutes=1)\n",
        "            ban_dict[ip_list[i]] = [b, add_time]\n",
        "            count_word_in_dict += 1\n",
        "        if (status_list[i] == 'removed') and (ban_dict.get(ip_list[i]) != None):\n",
        "                spis = ban_dict[ip_list[i]]\n",
        "                spis.append(new_date_list[i])\n",
        "                ban_dict[ip_list[i]] = spis\n",
        "                count_word_in_dict += 1\n",
        "    keys_list = list(ban_dict.keys())\n",
        "    for i in keys_list:\n",
        "        time_ban_unban = ban_dict.get(i)\n",
        "        if len(time_ban_unban)%2 != 0:\n",
        "            b = time_ban_unban[len(time_ban_unban)-1]\n",
        "            b = b + datetime.timedelta(seconds=30)\n",
        "            spis = ban_dict[i]\n",
        "            spis.append(b)\n",
        "            ban_dict[i] = spis\n",
        "            count_word_in_dict += 1\n",
        "    print('values in dict - ',count_word_in_dict)\n",
        "    return(ban_dict)\n"
      ],
      "execution_count": 10,
      "outputs": []
    },
    {
      "cell_type": "code",
      "metadata": {
        "id": "YnMpphpRgWwX"
      },
      "source": [
        "def read_dict(ban_dict):\n",
        "    list_key_dict = list(ban_dict.keys())\n",
        "    for i in list_key_dict:\n",
        "        if len(list(ban_dict.get(i))) % 2 != 0:\n",
        "          print(len(list(ban_dict.get(i))), '-', i)"
      ],
      "execution_count": 11,
      "outputs": []
    },
    {
      "cell_type": "code",
      "metadata": {
        "id": "_riqACW6zZei"
      },
      "source": [
        "def find_info_with_ip(ip):\n",
        "\n",
        "    m = geolite2.lookup(ip)\n",
        "\n",
        "    try:\n",
        "        country = m.country\n",
        "    except:\n",
        "        country = \"None\"\n",
        "\n",
        "    try:\n",
        "        continent = m.continent\n",
        "    except:\n",
        "        continent = \"None\"\n",
        "\n",
        "    try:\n",
        "        timezone = m.timezone\n",
        "    except:\n",
        "        timezone = \"None\"\n",
        "\n",
        "    return country, continent, timezone\n",
        "\n",
        "country, continent, timezone = find_info_with_ip('17.0.0.1')"
      ],
      "execution_count": 12,
      "outputs": []
    },
    {
      "cell_type": "code",
      "metadata": {
        "id": "Dk004zCpz-Cu"
      },
      "source": [
        "def separation_date_time(datetim):\n",
        "    #req_requset = re.compile(r'.([0-9]+.[0-9]+.[0-9]+).([0-9]+:[0-9]+:[0-9]+)(.[0-9]+.[0-9]+)')\n",
        "\n",
        "    #result = req_requset.match(datetime)\n",
        "    #date_and_time = result.group(1) + ' ' + result.group(2)\n",
        "\n",
        "    dt = dateparser(datetim)\n",
        "    new_datetime = dt.astimezone()\n",
        "    return  new_datetime, #new_datetime.date(), new_datetime.time()\n",
        "\n",
        "new_datetime = separation_date_time('2019-01-22 03:56:14+03:30')"
      ],
      "execution_count": 13,
      "outputs": []
    },
    {
      "cell_type": "code",
      "metadata": {
        "id": "2A5ZKk9k1rJH",
        "colab": {
          "base_uri": "https://localhost:8080/"
        },
        "outputId": "cc3e3f18-397e-4338-cf3c-9e937c6318db"
      },
      "source": [
        "def find_info_with_request(request):\n",
        "\n",
        "    url_path = None\n",
        "    number_availability = 0\n",
        "    statuses = False\n",
        "    del_list = []\n",
        "    \n",
        "    try:\n",
        "        method, url, http = request.split()\n",
        "\n",
        "        url_line = urlparse(url)\n",
        "\n",
        "        if (url_line.path != '') and (url_line.params != '') and (url_line.query != ''):\n",
        "            url_path = url_line.path + \" \" + url_line.params + \" \" + url_line.query\n",
        "        elif (url_line.path != '') and (url_line.params != ''):\n",
        "            url_path = url_line.path + \" \" + url_line.params\n",
        "        elif (url_line.path != '') and (url_line.params):\n",
        "            url_path = url_line.path + \" \" + url_line.querty\n",
        "        elif (url_line.params != '') and (url_line.query != ''):\n",
        "            url_path = url_line.path + \" \" + url_line.query\n",
        "        elif (url_line.path != ''):\n",
        "            url_path = url_line.path\n",
        "        elif (url_line.params != ''):\n",
        "            url_path = url_line.params\n",
        "        elif (url_line.query != ''):\n",
        "            url_path = url_line.query\n",
        "        else:\n",
        "            url_path = None\n",
        "        \n",
        "\n",
        "        if (url_path != None) and (url_path != '/'):\n",
        "            url_path = url_path.replace(',', \" \").replace('.', \" \").replace('/', \" \").replace('%', \" \").replace('&', \" \").replace('*', \" \").replace('=', \" \").replace('_', \" \").replace('-', \" \")\n",
        "            url_path = \" \".join(url_path.split())\n",
        "            url_path = url_path.split(\" \")\n",
        "            for i in url_path:\n",
        "                if i == '':\n",
        "                    url_path.remove(i)\n",
        "                s = re.search('\\d+', i) is not None\n",
        "                if s == True:\n",
        "                    del_list.append(i)\n",
        "                    if number_availability == 0:\n",
        "                        number_availability = 1   #назвать столбик в дататесте так \n",
        "            for i in range(len(del_list)):\n",
        "                url_path.remove(del_list[i])\n",
        "            if len(url_path) != 0:\n",
        "                statuses = True\n",
        "                url_path = \" \".join(url_path)\n",
        "                url_path = url_path.split(\" \")\n",
        "                len_url = len(url_path)\n",
        "                if len_url != 0:\n",
        "                    for i in range(len_url):\n",
        "                        new_str = url_path[i][0].upper() + url_path[i][1:]\n",
        "                        url_path[i] = new_str\n",
        "                        spis = re.findall('[A-Z][^A-Z]*', url_path[i])\n",
        "                        for j in spis:\n",
        "                            url_path.append(j)\n",
        "                    for i in range(len_url):\n",
        "                        url_path.pop(0)\n",
        "                    url_path = \" \".join(url_path)\n",
        "                    url_path = url_path.lower()\n",
        "        elif url_path == '/':\n",
        "            url_path = 'None'\n",
        "\n",
        "        if statuses == False:\n",
        "            url_path = 'None'\n",
        "            \n",
        "                \n",
        "                \n",
        "            \n",
        "\n",
        "    except Exception as ex:\n",
        "        print(ex, '-', request)\n",
        "        method = 'None'\n",
        "        url_path = 'None'\n",
        "        http = 'None'\n",
        "\n",
        "    \n",
        "\n",
        "    return method, url_path, number_availability, http\n",
        "\n",
        "#find_info_with_request('GET /image/60844/productModel/200x200 HTTP/1.1')\n",
        "find_info_with_request('GET /DDoS01/3f5300a4/netdike/f0fe037bb78055683440c6c77bdca1f2Lw== HTTP/1.0')\n"
      ],
      "execution_count": 14,
      "outputs": [
        {
          "output_type": "execute_result",
          "data": {
            "text/plain": [
              "('GET', 'netdike', 1, 'HTTP/1.0')"
            ]
          },
          "metadata": {},
          "execution_count": 14
        }
      ]
    },
    {
      "cell_type": "code",
      "metadata": {
        "colab": {
          "base_uri": "https://localhost:8080/"
        },
        "id": "akpZB0Ri09mM",
        "outputId": "08701225-3f0a-43c1-f876-4518468a1e2c"
      },
      "source": [
        "def find_info_with_Useragent(useragent_line):\n",
        "    req_request = re.compile(r'([a-zA-z]+).')\n",
        "\n",
        "    user_agent = parse(useragent_line)\n",
        "\n",
        "    try:\n",
        "        os = user_agent.os.family\n",
        "    except:\n",
        "        os = 'other'\n",
        "\n",
        "    try:\n",
        "        browser = user_agent.browser.family\n",
        "    except:\n",
        "        browser = 'other'\n",
        "\n",
        "    try:\n",
        "        device = user_agent.device.family\n",
        "    except:\n",
        "        device = 'other'\n",
        "\n",
        "    try:\n",
        "        result = req_request.match(useragent_line)\n",
        "        exit_system = result.group(1)\n",
        "    except:\n",
        "        exit_system = 'other'\n",
        "\n",
        "    return exit_system, os, browser, device\n",
        "\n",
        "find_info_with_Useragent('Mozilla/5.0 (Linux; Android 6.0; ALE-L21 Build/HuaweiALE-L21) AppleWebKit/537.36 (KHTML, like Gecko) Chrome/66.0.3359.158 Mobile Safari/537.36')"
      ],
      "execution_count": 15,
      "outputs": [
        {
          "output_type": "execute_result",
          "data": {
            "text/plain": [
              "('Mozilla', 'Android', 'Chrome Mobile', 'ALE-L21')"
            ]
          },
          "metadata": {},
          "execution_count": 15
        }
      ]
    },
    {
      "cell_type": "code",
      "metadata": {
        "colab": {
          "base_uri": "https://localhost:8080/"
        },
        "id": "rbLrYAHtGoDU",
        "outputId": "f3010ef9-1d3b-4195-d174-a6a1d6a929f3"
      },
      "source": [
        "def copy_size_return_object(size_object):\n",
        "\n",
        "\n",
        "    try:\n",
        "        new_size_return_object = int(size_object)\n",
        "    except:\n",
        "        new_size_return_object = 0\n",
        "\n",
        "    return new_size_return_object\n",
        "\n",
        "copy_size_return_object(5667)"
      ],
      "execution_count": 16,
      "outputs": [
        {
          "output_type": "execute_result",
          "data": {
            "text/plain": [
              "5667"
            ]
          },
          "metadata": {},
          "execution_count": 16
        }
      ]
    },
    {
      "cell_type": "code",
      "metadata": {
        "id": "XoRbXGnTj-hH"
      },
      "source": [
        "df = pd.read_csv('ban_unban_table.csv')\n",
        "\n",
        "date_list = df['created_at'].tolist()\n",
        "status_list = df['action'].tolist()\n",
        "ip_list = df['ip'].tolist()\n",
        "\n",
        "new_date_list = ban_separation_date_time(date_list)"
      ],
      "execution_count": 17,
      "outputs": []
    },
    {
      "cell_type": "code",
      "metadata": {
        "id": "QAD3QgVapU6j"
      },
      "source": [
        "chek = []"
      ],
      "execution_count": 18,
      "outputs": []
    },
    {
      "cell_type": "code",
      "metadata": {
        "id": "cFrF4mg-TL7W"
      },
      "source": [
        "def markup(datetim, ip, ban_dict, number):\n",
        "    keys_list = list(ban_dict.keys())\n",
        "    if ip in keys_list:\n",
        "        spis = ban_dict[ip]\n",
        "        if len(spis) != 0:\n",
        "            i = 0\n",
        "            datetim = datetim[0]\n",
        "            while i != len(spis):\n",
        "                ban_time = spis[i]\n",
        "                unban_time = spis[i+1]\n",
        "                if (datetim > ban_time) and (datetim < unban_time):\n",
        "                    return 0 \n",
        "                else:\n",
        "                    i = i + 2\n",
        "        else:\n",
        "            return 1   \n",
        "    else:\n",
        "        return 1\n"
      ],
      "execution_count": 19,
      "outputs": []
    },
    {
      "cell_type": "code",
      "metadata": {
        "id": "p_JM83T70D-e"
      },
      "source": [
        "#col_names = ['country', 'continent', 'timezone', 'date', 'time', 'method', 'url_sheme', 'url_netloc', 'url_path', 'url_params', 'url_querty', 'url_fragment', 'http', 'status_code', 'size_object', 'exit_system', 'os', 'browser', 'device']\n",
        "my_df = pd.DataFrame()\n"
      ],
      "execution_count": 20,
      "outputs": []
    },
    {
      "cell_type": "code",
      "metadata": {
        "id": "NeSrZ6PKyKSH",
        "colab": {
          "base_uri": "https://localhost:8080/"
        },
        "outputId": "c042ca29-7bba-486a-a8a2-b03f412ee40e"
      },
      "source": [
        "ban_dict = create_dict(new_date_list, status_list, ip_list)"
      ],
      "execution_count": 21,
      "outputs": [
        {
          "output_type": "stream",
          "name": "stdout",
          "text": [
            "values in dict -  45328\n"
          ]
        }
      ]
    },
    {
      "cell_type": "code",
      "metadata": {
        "id": "t7jUvQN6hPYF"
      },
      "source": [
        "read_dict(ban_dict)"
      ],
      "execution_count": 22,
      "outputs": []
    },
    {
      "cell_type": "code",
      "metadata": {
        "id": "bARoZghd0GUN"
      },
      "source": [
        "parser2 = LogParser('%h %l %u %t \\\"%r\\\" %>s %b \\\"%{Referer}i\\\" \\\"%{User-Agent}i\\\"')\n",
        "\n",
        "ip_list = []\n",
        "country_list = []\n",
        "continent_list = []\n",
        "timezone_list = []\n",
        "# date_list = []\n",
        "# time_list = []\n",
        "datetime_list = []\n",
        "method_list = []\n",
        "url_path_list = []\n",
        "number_availability_list = []\n",
        "http_list = []\n",
        "size_return_object_list = []\n",
        "exit_system_list = []\n",
        "os_list = []\n",
        "browser_list = []\n",
        "device_list = []\n",
        "status_code_list = []\n",
        "status_request_list = []\n",
        "number = 0\n",
        "\n",
        "date_time_obj_start = (datetime.datetime(2021, 11, 3, 11, 0, 0, tzinfo=datetime.timezone(datetime.timedelta(0), 'UTC')),)\n",
        "date_time_obj_end = (datetime.datetime(2021, 11, 3, 12, 0, 0, tzinfo=datetime.timezone(datetime.timedelta(0), 'UTC')),)\n",
        "\n",
        "\n",
        "with open('srvgame.ru.access.log') as fp:  # doctest: +SKIP\n",
        "    for entry in parser2.parse_lines(fp):\n",
        "        datetim = separation_date_time(str(entry.directives['%t']))\n",
        "        if (datetim[0] > date_time_obj_start[0]) and (datetim[0] < date_time_obj_end[0]):\n",
        "            country, continent, timezone = find_info_with_ip(str(entry.remote_host))\n",
        "            method, url_path, number_availability, http = find_info_with_request(str(entry.request_line))\n",
        "            status_code = entry.directives['%>s']\n",
        "            size_return_object = copy_size_return_object(entry.directives['%b'])\n",
        "            exit_system, os, browser, device = find_info_with_Useragent(str(entry.directives['%{User-Agent}i']))\n",
        "            mark = markup(datetim, str(entry.remote_host), ban_dict, number)\n",
        "\n",
        "\n",
        "            ip_list.append(str(entry.remote_host))\n",
        "            status_code_list.append(status_code)\n",
        "            country_list.append(country)\n",
        "            continent_list.append(continent)\n",
        "            timezone_list.append(timezone)\n",
        "            # date_list.append(date)\n",
        "            # time_list.append(time)\n",
        "            datetime_list.append(datetim)\n",
        "            method_list.append(method)\n",
        "            url_path_list.append(url_path)\n",
        "            number_availability_list.append(number_availability)\n",
        "            http_list.append(http)\n",
        "            size_return_object_list.append(size_return_object)\n",
        "            exit_system_list.append(exit_system)\n",
        "            os_list.append(os)\n",
        "            browser_list.append(browser)\n",
        "            device_list.append(device)\n",
        "            status_request_list.append(mark)\n",
        "            number = number + 1\n",
        "\n",
        "my_df['ip'] = ip_list\n",
        "my_df['country'] = country_list\n",
        "my_df['continent'] = continent_list\n",
        "my_df['timezone'] = timezone_list\n",
        "my_df['datetime'] = datetime_list\n",
        "# my_df['date'] = date_list\n",
        "# my_df['time'] = time_list\n",
        "my_df['method'] = method_list\n",
        "my_df['url_path'] = url_path_list\n",
        "my_df['number_availability'] = number_availability_list\n",
        "my_df['http'] = http_list\n",
        "my_df['status_code'] = status_code_list\n",
        "my_df['size_object'] = size_return_object_list\n",
        "my_df['exit_system'] = exit_system_list\n",
        "my_df['os'] = os_list\n",
        "my_df['browser'] = browser_list\n",
        "my_df['device'] = device_list\n",
        "my_df['markup'] = status_request_list\n",
        "my_df.to_csv('DICT_FOR_LEARN.csv', header=True, sep=';')\n",
        "\n",
        "del ip_list, country_list, continent_list, timezone_list, datetime_list, method_list, url_path_list, number_availability_list, http_list, status_code_list, size_return_object_list\n",
        "del exit_system_list, os_list, browser_list, device_list, status_request_list, number"
      ],
      "execution_count": 23,
      "outputs": []
    },
    {
      "cell_type": "code",
      "metadata": {
        "id": "vaQWtFGDn2du",
        "colab": {
          "base_uri": "https://localhost:8080/"
        },
        "outputId": "28f8cd3b-aadb-48d0-99db-dca999ad9c43"
      },
      "source": [
        "my_df['markup'].value_counts()"
      ],
      "execution_count": 24,
      "outputs": [
        {
          "output_type": "execute_result",
          "data": {
            "text/plain": [
              "1.0    176505\n",
              "0.0      6376\n",
              "Name: markup, dtype: int64"
            ]
          },
          "metadata": {},
          "execution_count": 24
        }
      ]
    }
  ]
}