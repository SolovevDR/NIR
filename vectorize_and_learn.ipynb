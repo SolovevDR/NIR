{
  "nbformat": 4,
  "nbformat_minor": 0,
  "metadata": {
    "colab": {
      "name": "vectorize and learn.ipynb",
      "provenance": [],
      "collapsed_sections": [],
      "mount_file_id": "1FXkaukyf0wb-83xW_0fBBZO3nIJqRhWf",
      "authorship_tag": "ABX9TyNUOiTfpE/h8IV9NT0RVvkx",
      "include_colab_link": true
    },
    "kernelspec": {
      "display_name": "Python 3",
      "name": "python3"
    },
    "language_info": {
      "name": "python"
    }
  },
  "cells": [
    {
      "cell_type": "markdown",
      "metadata": {
        "id": "view-in-github",
        "colab_type": "text"
      },
      "source": [
        "<a href=\"https://colab.research.google.com/github/SolovevDR/NIR/blob/main/vectorize_and_learn.ipynb\" target=\"_parent\"><img src=\"https://colab.research.google.com/assets/colab-badge.svg\" alt=\"Open In Colab\"/></a>"
      ]
    },
    {
      "cell_type": "code",
      "metadata": {
        "id": "pGWhCOkNBHDd"
      },
      "source": [
        "import os\n",
        "os.chdir('/content/drive/MyDrive/Colab Notebooks/NIR')"
      ],
      "execution_count": null,
      "outputs": []
    },
    {
      "cell_type": "markdown",
      "metadata": {
        "id": "B74J0GGrBKyk"
      },
      "source": [
        "\n",
        "\n",
        "---\n",
        "---\n",
        "---\n",
        "\n"
      ]
    },
    {
      "cell_type": "code",
      "metadata": {
        "id": "2eiS5naMBR68"
      },
      "source": [
        "import pandas as pd\n",
        "import numpy as np\n",
        " \n",
        "from nltk.stem.porter import PorterStemmer\n",
        "from sklearn.feature_extraction.text import CountVectorizer\n",
        "import pandas as pd\n",
        "from keras.utils import np_utils\n",
        "from sklearn.preprocessing import OneHotEncoder "
      ],
      "execution_count": null,
      "outputs": []
    },
    {
      "cell_type": "code",
      "metadata": {
        "id": "dsvYAR0KPJpP"
      },
      "source": [
        "my_df = pd.read_csv('DICT_FOR_LEARN.csv', header= 0, sep=';')"
      ],
      "execution_count": null,
      "outputs": []
    },
    {
      "cell_type": "code",
      "metadata": {
        "colab": {
          "base_uri": "https://localhost:8080/"
        },
        "id": "wLhAof-QPZ6k",
        "outputId": "be466e90-cd6b-43d8-addf-adebfb4775fd"
      },
      "source": [
        "my_df.columns"
      ],
      "execution_count": null,
      "outputs": [
        {
          "output_type": "execute_result",
          "data": {
            "text/plain": [
              "Index(['Unnamed: 0', 'ip', 'country', 'continent', 'timezone', 'datetime',\n",
              "       'method', 'url_path', 'number_availability', 'http', 'status_code',\n",
              "       'size_object', 'exit_system', 'os', 'browser', 'device', 'markup'],\n",
              "      dtype='object')"
            ]
          },
          "metadata": {},
          "execution_count": 4
        }
      ]
    },
    {
      "cell_type": "code",
      "metadata": {
        "colab": {
          "base_uri": "https://localhost:8080/",
          "height": 282
        },
        "id": "xVOrQVjqvQ_W",
        "outputId": "77594d8d-3dad-4aa4-d53a-08b44ccb1d2b"
      },
      "source": [
        "my_df['size_object'].plot()"
      ],
      "execution_count": null,
      "outputs": [
        {
          "output_type": "execute_result",
          "data": {
            "text/plain": [
              "<matplotlib.axes._subplots.AxesSubplot at 0x7f833acf4590>"
            ]
          },
          "metadata": {},
          "execution_count": 5
        },
        {
          "output_type": "display_data",
          "data": {
            "image/png": "[encoded data removed]",
            "text/plain": [
              "<Figure size 432x288 with 1 Axes>"
            ]
          },
          "metadata": {
            "needs_background": "light"
          }
        }
      ]
    },
    {
      "cell_type": "markdown",
      "metadata": {
        "id": "kejFDsdBwhhM"
      },
      "source": [
        "видно, что данные имеют, большой разброс. Требуют маштабирования. "
      ]
    },
    {
      "cell_type": "code",
      "metadata": {
        "colab": {
          "base_uri": "https://localhost:8080/"
        },
        "id": "ImF_he37w154",
        "outputId": "d4f79370-11b1-41de-e212-674f95141fb5"
      },
      "source": [
        "from sklearn import preprocessing\n",
        "\n",
        "x_array = np.array(my_df['size_object'])\n",
        "normalized_arr = preprocessing.normalize([x_array])\n",
        "normalized_arr = normalized_arr[0]\n",
        "\n",
        "my_df['size_object'] = normalized_arr\n",
        "print(my_df['size_object'].head())"
      ],
      "execution_count": null,
      "outputs": [
        {
          "output_type": "stream",
          "name": "stdout",
          "text": [
            "0    0.001884\n",
            "1    0.001884\n",
            "2    0.001884\n",
            "3    0.001884\n",
            "4    0.001884\n",
            "Name: size_object, dtype: float64\n"
          ]
        }
      ]
    },
    {
      "cell_type": "code",
      "metadata": {
        "colab": {
          "base_uri": "https://localhost:8080/",
          "height": 282
        },
        "id": "5wGDY5IZ1Pkx",
        "outputId": "d5605501-809b-4659-fd54-a44612d8c8ff"
      },
      "source": [
        "my_df['size_object'].plot()"
      ],
      "execution_count": null,
      "outputs": [
        {
          "output_type": "execute_result",
          "data": {
            "text/plain": [
              "<matplotlib.axes._subplots.AxesSubplot at 0x7f8339536e90>"
            ]
          },
          "metadata": {},
          "execution_count": 7
        },
        {
          "output_type": "display_data",
          "data": {
            "image/png": "[encoded data removed]",
            "text/plain": [
              "<Figure size 432x288 with 1 Axes>"
            ]
          },
          "metadata": {
            "needs_background": "light"
          }
        }
      ]
    },
    {
      "cell_type": "code",
      "metadata": {
        "colab": {
          "base_uri": "https://localhost:8080/"
        },
        "id": "6S0sF52aCkuC",
        "outputId": "4f549972-7bd5-4e6d-bba8-ac7e0154fce7"
      },
      "source": [
        "test = my_df['country'].tolist()\n",
        "test_encoded, test_categories = my_df['country'].factorize()\n",
        "print(test_encoded)"
      ],
      "execution_count": null,
      "outputs": [
        {
          "output_type": "stream",
          "name": "stdout",
          "text": [
            "[0 1 0 ... 6 6 6]\n"
          ]
        }
      ]
    },
    {
      "cell_type": "code",
      "metadata": {
        "id": "q7Ky-YfCIi3o"
      },
      "source": [
        "from sklearn.pipeline import FeatureUnion\n",
        "\n",
        "# Index(['Unnamed: 0', 'ip', 'country', 'continent', 'timezone', 'datetime',\n",
        "#        'method', 'url_path', 'number_availability', 'http', 'status_code',\n",
        "#        'size_object', 'exit_system', 'os', 'browser', 'device', 'markup'],\n",
        "#       dtype='object')\n",
        "\n",
        "vectorizer = CountVectorizer()\n",
        "X1 = vectorizer.fit_transform(my_df['url_path']).toarray()\n",
        "\n",
        "encoder = OneHotEncoder()\n",
        "\n",
        "country_encoded, country_categories = my_df['country'].factorize()\n",
        "contry_cat_lhot = encoder.fit_transform(country_encoded.reshape(-1 ,1))\n",
        "X2 = contry_cat_lhot.toarray()\n",
        "\n",
        "continent_encoded, continent_categories = my_df['continent'].factorize()\n",
        "continent_cat_lhot = encoder.fit_transform(continent_encoded.reshape(-1 ,1))\n",
        "X3 = continent_cat_lhot.toarray()\n",
        "\n",
        "method_encoded, method_categories = my_df['method'].factorize()\n",
        "method_cat_lhot = encoder.fit_transform(method_encoded.reshape(-1 ,1))\n",
        "X4 = method_cat_lhot.toarray()\n",
        "\n",
        "http_encoded, http_categories = my_df['http'].factorize()\n",
        "http_cat_lhot = encoder.fit_transform(http_encoded.reshape(-1 ,1))\n",
        "X5 = http_cat_lhot.toarray()\n",
        "\n",
        "exit_system_encoded, exit_system_categories = my_df['exit_system'].factorize()\n",
        "exit_system_cat_lhot = encoder.fit_transform(exit_system_encoded.reshape(-1 ,1))\n",
        "X6 = exit_system_cat_lhot.toarray()\n",
        "\n",
        "os_encoded, os_categories = my_df['os'].factorize()\n",
        "os_cat_lhot = encoder.fit_transform(os_encoded.reshape(-1 ,1))\n",
        "X7 = os_cat_lhot.toarray()\n",
        "\n",
        "browser_encoded, browser_categories = my_df['browser'].factorize()\n",
        "browser_cat_lhot = encoder.fit_transform(browser_encoded.reshape(-1 ,1))\n",
        "X8 = browser_cat_lhot.toarray()\n",
        "\n",
        "device_encoded, device_categories = my_df['device'].factorize()\n",
        "device_cat_lhot = encoder.fit_transform(device_encoded.reshape(-1 ,1))\n",
        "X9 = device_cat_lhot.toarray()\n",
        "\n",
        "markup_encoded, markup_categories = my_df['markup'].factorize()\n",
        "markup_cat_lhot = encoder.fit_transform(markup_encoded.reshape(-1 ,1))\n",
        "y = markup_cat_lhot.toarray()\n"
      ],
      "execution_count": null,
      "outputs": []
    },
    {
      "cell_type": "code",
      "metadata": {
        "colab": {
          "base_uri": "https://localhost:8080/"
        },
        "id": "RVNvKBU7jYZo",
        "outputId": "5eca7cf6-44ac-4cc8-ba59-ba438158fedb"
      },
      "source": [
        "\n",
        "my_df = my_df.join([pd.DataFrame(X1, columns=(f'url_path_{i}' for i in range(X1.shape[1])))])\n",
        "my_df = my_df.join([pd.DataFrame(X2, columns=(f'country_{i}' for i in range(X2.shape[1])))])\n",
        "my_df = my_df.join([pd.DataFrame(X3, columns=(f'continent_{i}' for i in range(X3.shape[1])))])\n",
        "my_df = my_df.join([pd.DataFrame(X4, columns=(f'method_{i}' for i in range(X4.shape[1])))])\n",
        "my_df = my_df.join([pd.DataFrame(X5, columns=(f'http_{i}' for i in range(X5.shape[1])))])\n",
        "my_df = my_df.join([pd.DataFrame(X6, columns=(f'exit_system_{i}' for i in range(X6.shape[1])))])\n",
        "my_df = my_df.join([pd.DataFrame(X7, columns=(f'os_{i}' for i in range(X7.shape[1])))])\n",
        "my_df = my_df.join([pd.DataFrame(X8, columns=(f'browser_{i}' for i in range(X8.shape[1])))])\n",
        "my_df = my_df.join([pd.DataFrame(X9, columns=(f'device_{i}' for i in range(X9.shape[1])))])\n",
        "my_df = my_df.join([pd.DataFrame(y, columns=(f'markup_{i}' for i in range(y.shape[1])))])\n",
        "\n",
        "print(my_df.head)"
      ],
      "execution_count": null,
      "outputs": [
        {
          "output_type": "stream",
          "name": "stdout",
          "text": [
            "<bound method NDFrame.head of        Unnamed: 0              ip country  ... device_111 markup_0 markup_1\n",
            "0               0  155.94.228.201      US  ...        0.0      1.0      0.0\n",
            "1               1  136.243.34.253      DE  ...        0.0      1.0      0.0\n",
            "2               2  155.94.228.201      US  ...        0.0      1.0      0.0\n",
            "3               3  136.243.34.253      DE  ...        0.0      1.0      0.0\n",
            "4               4  136.243.34.253      DE  ...        0.0      1.0      0.0\n",
            "...           ...             ...     ...  ...        ...      ...      ...\n",
            "11638       11638   94.41.137.171      RU  ...        0.0      0.0      1.0\n",
            "11639       11639   94.41.137.171      RU  ...        0.0      0.0      1.0\n",
            "11640       11640   94.41.137.171      RU  ...        0.0      0.0      1.0\n",
            "11641       11641   94.41.137.171      RU  ...        0.0      0.0      1.0\n",
            "11642       11642   94.41.137.171      RU  ...        0.0      0.0      1.0\n",
            "\n",
            "[11643 rows x 460 columns]>\n"
          ]
        }
      ]
    },
    {
      "cell_type": "code",
      "metadata": {
        "id": "S0pcup48oUdG"
      },
      "source": [
        "del my_df['ip']\n",
        "del my_df['timezone']\n",
        "del my_df['country']\n",
        "del my_df['continent']\n",
        "del my_df['method']\n",
        "del my_df['http']\n",
        "del my_df['exit_system']\n",
        "del my_df['os']\n",
        "del my_df['browser']\n",
        "del my_df['device']\n",
        "del my_df['datetime']\n",
        "del my_df['url_path']\n",
        "del my_df['markup']"
      ],
      "execution_count": null,
      "outputs": []
    },
    {
      "cell_type": "code",
      "metadata": {
        "colab": {
          "base_uri": "https://localhost:8080/"
        },
        "id": "cLq5wIoOpRQ9",
        "outputId": "bcf15493-71bb-4890-e56a-e85f1b3aa0f2"
      },
      "source": [
        "my_df.columns"
      ],
      "execution_count": null,
      "outputs": [
        {
          "output_type": "execute_result",
          "data": {
            "text/plain": [
              "Index(['Unnamed: 0', 'number_availability', 'status_code', 'size_object',\n",
              "       'url_path_0', 'url_path_1', 'url_path_2', 'url_path_3', 'url_path_4',\n",
              "       'url_path_5',\n",
              "       ...\n",
              "       'device_104', 'device_105', 'device_106', 'device_107', 'device_108',\n",
              "       'device_109', 'device_110', 'device_111', 'markup_0', 'markup_1'],\n",
              "      dtype='object', length=447)"
            ]
          },
          "metadata": {},
          "execution_count": 12
        }
      ]
    },
    {
      "cell_type": "code",
      "metadata": {
        "id": "1EtWZ7Ks0dLG"
      },
      "source": [
        "from sklearn.model_selection import train_test_split\n",
        "x = my_df.iloc[:,0:445]\n",
        "y = my_df.iloc[:,445:]\n",
        "x = x.astype(np.float32)\n",
        "X_train, X_test, y_train, y_test = train_test_split(x, y, test_size=0.30, random_state=42)"
      ],
      "execution_count": null,
      "outputs": []
    },
    {
      "cell_type": "code",
      "metadata": {
        "colab": {
          "base_uri": "https://localhost:8080/"
        },
        "id": "HZ9l4ZhCJN6O",
        "outputId": "bf25abd0-5a18-46db-9628-826803bf9d12"
      },
      "source": [
        "print(y_test)"
      ],
      "execution_count": null,
      "outputs": [
        {
          "output_type": "stream",
          "name": "stdout",
          "text": [
            "       markup_0  markup_1\n",
            "5135        1.0       0.0\n",
            "850         1.0       0.0\n",
            "9617        0.0       1.0\n",
            "4791        1.0       0.0\n",
            "9407        0.0       1.0\n",
            "...         ...       ...\n",
            "1023        1.0       0.0\n",
            "3298        1.0       0.0\n",
            "10237       0.0       1.0\n",
            "6834        0.0       1.0\n",
            "59          1.0       0.0\n",
            "\n",
            "[3493 rows x 2 columns]\n"
          ]
        }
      ]
    },
    {
      "cell_type": "markdown",
      "metadata": {
        "id": "YZsbJiQO6bpw"
      },
      "source": [
        "\n",
        "\n",
        "---\n",
        "\n",
        "\n",
        "\n",
        "---\n",
        "\n",
        "\n",
        "\n",
        "---\n",
        "\n",
        "### Тут плохо подобраны модели\n",
        "\n",
        "### Пока не нужно на это смотреть"
      ]
    },
    {
      "cell_type": "code",
      "metadata": {
        "id": "uZhry_eu5180"
      },
      "source": [
        "import tensorflow as tf\n",
        "\n",
        "import keras\n",
        "from keras.models import Sequential\n",
        "from keras.layers import Dense, Dropout"
      ],
      "execution_count": null,
      "outputs": []
    },
    {
      "cell_type": "code",
      "metadata": {
        "id": "rFSJSB3VEMn7"
      },
      "source": [
        "# 1. создаем модель - объявляем ее объектом класса Sequential\n",
        "model = Sequential()\n",
        "# 2. добавляем выходной слой\n",
        "model.add(Dense( units=2, input_dim=445, activation='softmax'))\n",
        "# 3. компилируем модель\n",
        "model.compile(loss='categorical_crossentropy', optimizer='sgd', metrics=['accuracy'])"
      ],
      "execution_count": null,
      "outputs": []
    },
    {
      "cell_type": "code",
      "metadata": {
        "colab": {
          "base_uri": "https://localhost:8080/"
        },
        "id": "7MjDxnwwEg7E",
        "outputId": "048e9dc2-5306-4746-b8f1-b24d03929d68"
      },
      "source": [
        "# вывод информации об архитектуре модели\n",
        "print(model.summary())"
      ],
      "execution_count": null,
      "outputs": [
        {
          "output_type": "stream",
          "name": "stdout",
          "text": [
            "Model: \"sequential\"\n",
            "_________________________________________________________________\n",
            " Layer (type)                Output Shape              Param #   \n",
            "=================================================================\n",
            " dense (Dense)               (None, 2)                 892       \n",
            "                                                                 \n",
            "=================================================================\n",
            "Total params: 892\n",
            "Trainable params: 892\n",
            "Non-trainable params: 0\n",
            "_________________________________________________________________\n",
            "None\n"
          ]
        }
      ]
    },
    {
      "cell_type": "code",
      "metadata": {
        "colab": {
          "base_uri": "https://localhost:8080/"
        },
        "id": "grrMlOewEmw8",
        "outputId": "d6896d5b-d34b-4739-abfe-6a2c4ba0f057"
      },
      "source": [
        "H = model.fit(X_train, y_train, validation_split=0.1, epochs=100)"
      ],
      "execution_count": null,
      "outputs": [
        {
          "output_type": "stream",
          "name": "stdout",
          "text": [
            "Epoch 1/100\n",
            "230/230 [==============================] - 1s 3ms/step - loss: 53261.1094 - accuracy: 0.5801 - val_loss: 37395.4844 - val_accuracy: 0.5926\n",
            "Epoch 2/100\n",
            "230/230 [==============================] - 0s 1ms/step - loss: 43149.2461 - accuracy: 0.6275 - val_loss: 49492.6680 - val_accuracy: 0.6172\n",
            "Epoch 3/100\n",
            "230/230 [==============================] - 0s 2ms/step - loss: 29172.9023 - accuracy: 0.7166 - val_loss: 1042.3174 - val_accuracy: 0.8908\n",
            "Epoch 4/100\n",
            "230/230 [==============================] - 0s 2ms/step - loss: 28169.1270 - accuracy: 0.7196 - val_loss: 10472.2383 - val_accuracy: 0.7669\n",
            "Epoch 5/100\n",
            "230/230 [==============================] - 0s 2ms/step - loss: 18250.9473 - accuracy: 0.7787 - val_loss: 11168.2100 - val_accuracy: 0.7718\n",
            "Epoch 6/100\n",
            "230/230 [==============================] - 0s 2ms/step - loss: 13755.1250 - accuracy: 0.8176 - val_loss: 5460.9429 - val_accuracy: 0.8233\n",
            "Epoch 7/100\n",
            "230/230 [==============================] - 0s 1ms/step - loss: 12670.1016 - accuracy: 0.8222 - val_loss: 9249.5020 - val_accuracy: 0.7963\n",
            "Epoch 8/100\n",
            "230/230 [==============================] - 0s 2ms/step - loss: 10428.1484 - accuracy: 0.8552 - val_loss: 58442.6914 - val_accuracy: 0.4810\n",
            "Epoch 9/100\n",
            "230/230 [==============================] - 0s 2ms/step - loss: 10302.6436 - accuracy: 0.8547 - val_loss: 24560.3281 - val_accuracy: 0.7202\n",
            "Epoch 10/100\n",
            "230/230 [==============================] - 0s 1ms/step - loss: 7776.4087 - accuracy: 0.8723 - val_loss: 22896.8867 - val_accuracy: 0.7227\n",
            "Epoch 11/100\n",
            "230/230 [==============================] - 0s 1ms/step - loss: 6633.6309 - accuracy: 0.8774 - val_loss: 732.2722 - val_accuracy: 0.9644\n",
            "Epoch 12/100\n",
            "230/230 [==============================] - 0s 1ms/step - loss: 5365.1421 - accuracy: 0.8866 - val_loss: 1290.7125 - val_accuracy: 0.9350\n",
            "Epoch 13/100\n",
            "230/230 [==============================] - 0s 1ms/step - loss: 6481.8608 - accuracy: 0.8841 - val_loss: 21527.0254 - val_accuracy: 0.7436\n",
            "Epoch 14/100\n",
            "230/230 [==============================] - 0s 1ms/step - loss: 5784.4702 - accuracy: 0.8946 - val_loss: 649.8530 - val_accuracy: 0.9485\n",
            "Epoch 15/100\n",
            "230/230 [==============================] - 0s 1ms/step - loss: 5150.3716 - accuracy: 0.8948 - val_loss: 4410.8569 - val_accuracy: 0.8221\n",
            "Epoch 16/100\n",
            "230/230 [==============================] - 0s 2ms/step - loss: 4537.3711 - accuracy: 0.8913 - val_loss: 492.9218 - val_accuracy: 0.9730\n",
            "Epoch 17/100\n",
            "230/230 [==============================] - 0s 2ms/step - loss: 4637.9585 - accuracy: 0.8931 - val_loss: 6527.3325 - val_accuracy: 0.8319\n",
            "Epoch 18/100\n",
            "230/230 [==============================] - 0s 2ms/step - loss: 3705.7925 - accuracy: 0.9042 - val_loss: 2300.7400 - val_accuracy: 0.9080\n",
            "Epoch 19/100\n",
            "230/230 [==============================] - 0s 2ms/step - loss: 3207.6396 - accuracy: 0.9156 - val_loss: 5999.0718 - val_accuracy: 0.8380\n",
            "Epoch 20/100\n",
            "230/230 [==============================] - 0s 1ms/step - loss: 3163.8054 - accuracy: 0.9132 - val_loss: 66029.6406 - val_accuracy: 0.6638\n",
            "Epoch 21/100\n",
            "230/230 [==============================] - 0s 1ms/step - loss: 5125.1611 - accuracy: 0.8963 - val_loss: 14511.3252 - val_accuracy: 0.7804\n",
            "Epoch 22/100\n",
            "230/230 [==============================] - 0s 2ms/step - loss: 3335.7764 - accuracy: 0.9201 - val_loss: 589.2275 - val_accuracy: 0.9644\n",
            "Epoch 23/100\n",
            "230/230 [==============================] - 0s 2ms/step - loss: 4808.6226 - accuracy: 0.8983 - val_loss: 942.2339 - val_accuracy: 0.9350\n",
            "Epoch 24/100\n",
            "230/230 [==============================] - 0s 2ms/step - loss: 2609.7759 - accuracy: 0.9192 - val_loss: 533.0049 - val_accuracy: 0.9706\n",
            "Epoch 25/100\n",
            "230/230 [==============================] - 0s 2ms/step - loss: 2733.0264 - accuracy: 0.9260 - val_loss: 5756.6743 - val_accuracy: 0.8417\n",
            "Epoch 26/100\n",
            "230/230 [==============================] - 0s 2ms/step - loss: 2918.1924 - accuracy: 0.9222 - val_loss: 11231.9961 - val_accuracy: 0.7055\n",
            "Epoch 27/100\n",
            "230/230 [==============================] - 0s 2ms/step - loss: 3916.0842 - accuracy: 0.9069 - val_loss: 7539.6816 - val_accuracy: 0.8294\n",
            "Epoch 28/100\n",
            "230/230 [==============================] - 0s 1ms/step - loss: 2957.9673 - accuracy: 0.9157 - val_loss: 690.8184 - val_accuracy: 0.9534\n",
            "Epoch 29/100\n",
            "230/230 [==============================] - 0s 1ms/step - loss: 2736.3000 - accuracy: 0.9257 - val_loss: 710.2072 - val_accuracy: 0.9521\n",
            "Epoch 30/100\n",
            "230/230 [==============================] - 0s 2ms/step - loss: 3493.9883 - accuracy: 0.9220 - val_loss: 2379.8547 - val_accuracy: 0.8871\n",
            "Epoch 31/100\n",
            "230/230 [==============================] - 0s 2ms/step - loss: 3461.1479 - accuracy: 0.9163 - val_loss: 668.3447 - val_accuracy: 0.9558\n",
            "Epoch 32/100\n",
            "230/230 [==============================] - 0s 1ms/step - loss: 1863.1271 - accuracy: 0.9382 - val_loss: 754.6074 - val_accuracy: 0.9706\n",
            "Epoch 33/100\n",
            "230/230 [==============================] - 0s 1ms/step - loss: 3222.1792 - accuracy: 0.9160 - val_loss: 610.9406 - val_accuracy: 0.9804\n",
            "Epoch 34/100\n",
            "230/230 [==============================] - 0s 2ms/step - loss: 2395.2341 - accuracy: 0.9328 - val_loss: 43601.7852 - val_accuracy: 0.4810\n",
            "Epoch 35/100\n",
            "230/230 [==============================] - 0s 2ms/step - loss: 3514.7327 - accuracy: 0.9153 - val_loss: 8575.4707 - val_accuracy: 0.8233\n",
            "Epoch 36/100\n",
            "230/230 [==============================] - 0s 2ms/step - loss: 2829.3716 - accuracy: 0.9220 - val_loss: 578.4562 - val_accuracy: 0.9706\n",
            "Epoch 37/100\n",
            "230/230 [==============================] - 0s 1ms/step - loss: 2856.2595 - accuracy: 0.9241 - val_loss: 613.0001 - val_accuracy: 0.9644\n",
            "Epoch 38/100\n",
            "230/230 [==============================] - 0s 2ms/step - loss: 4264.1484 - accuracy: 0.9127 - val_loss: 575.6627 - val_accuracy: 0.9706\n",
            "Epoch 39/100\n",
            "230/230 [==============================] - 0s 2ms/step - loss: 2257.5691 - accuracy: 0.9352 - val_loss: 732.0702 - val_accuracy: 0.9767\n",
            "Epoch 40/100\n",
            "230/230 [==============================] - 0s 2ms/step - loss: 2973.8960 - accuracy: 0.9212 - val_loss: 886.3923 - val_accuracy: 0.9423\n",
            "Epoch 41/100\n",
            "230/230 [==============================] - 0s 1ms/step - loss: 3169.3433 - accuracy: 0.9257 - val_loss: 842.7580 - val_accuracy: 0.9693\n",
            "Epoch 42/100\n",
            "230/230 [==============================] - 0s 2ms/step - loss: 3439.6177 - accuracy: 0.9224 - val_loss: 589.2681 - val_accuracy: 0.9718\n",
            "Epoch 43/100\n",
            "230/230 [==============================] - 0s 2ms/step - loss: 1984.8357 - accuracy: 0.9372 - val_loss: 1222.4913 - val_accuracy: 0.9276\n",
            "Epoch 44/100\n",
            "230/230 [==============================] - 0s 1ms/step - loss: 1715.3073 - accuracy: 0.9429 - val_loss: 610.7529 - val_accuracy: 0.9669\n",
            "Epoch 45/100\n",
            "230/230 [==============================] - 0s 1ms/step - loss: 2818.1189 - accuracy: 0.9253 - val_loss: 3446.3335 - val_accuracy: 0.8859\n",
            "Epoch 46/100\n",
            "230/230 [==============================] - 0s 2ms/step - loss: 2187.2534 - accuracy: 0.9381 - val_loss: 918.1190 - val_accuracy: 0.9669\n",
            "Epoch 47/100\n",
            "230/230 [==============================] - 0s 2ms/step - loss: 3084.7615 - accuracy: 0.9211 - val_loss: 609.0256 - val_accuracy: 0.9767\n",
            "Epoch 48/100\n",
            "230/230 [==============================] - 0s 1ms/step - loss: 2484.3091 - accuracy: 0.9320 - val_loss: 799.4426 - val_accuracy: 0.9497\n",
            "Epoch 49/100\n",
            "230/230 [==============================] - 0s 2ms/step - loss: 3186.1956 - accuracy: 0.9241 - val_loss: 3407.2048 - val_accuracy: 0.8883\n",
            "Epoch 50/100\n",
            "230/230 [==============================] - 0s 2ms/step - loss: 3027.7566 - accuracy: 0.9297 - val_loss: 4416.2725 - val_accuracy: 0.8552\n",
            "Epoch 51/100\n",
            "230/230 [==============================] - 0s 2ms/step - loss: 2605.5630 - accuracy: 0.9305 - val_loss: 970.1360 - val_accuracy: 0.9411\n",
            "Epoch 52/100\n",
            "230/230 [==============================] - 0s 1ms/step - loss: 2336.3545 - accuracy: 0.9384 - val_loss: 953.6288 - val_accuracy: 0.9423\n",
            "Epoch 53/100\n",
            "230/230 [==============================] - 0s 1ms/step - loss: 2203.5837 - accuracy: 0.9410 - val_loss: 5277.1523 - val_accuracy: 0.8515\n",
            "Epoch 54/100\n",
            "230/230 [==============================] - 0s 1ms/step - loss: 2842.1121 - accuracy: 0.9254 - val_loss: 77868.0469 - val_accuracy: 0.4810\n",
            "Epoch 55/100\n",
            "230/230 [==============================] - 0s 2ms/step - loss: 2738.7825 - accuracy: 0.9344 - val_loss: 3994.4727 - val_accuracy: 0.8650\n",
            "Epoch 56/100\n",
            "230/230 [==============================] - 0s 2ms/step - loss: 2629.5454 - accuracy: 0.9302 - val_loss: 903.4431 - val_accuracy: 0.9436\n",
            "Epoch 57/100\n",
            "230/230 [==============================] - 0s 1ms/step - loss: 2431.2229 - accuracy: 0.9283 - val_loss: 1362.6418 - val_accuracy: 0.9436\n",
            "Epoch 58/100\n",
            "230/230 [==============================] - 0s 1ms/step - loss: 1993.1483 - accuracy: 0.9400 - val_loss: 7178.0352 - val_accuracy: 0.8380\n",
            "Epoch 59/100\n",
            "230/230 [==============================] - 0s 2ms/step - loss: 2212.8101 - accuracy: 0.9329 - val_loss: 671.3806 - val_accuracy: 0.9816\n",
            "Epoch 60/100\n",
            "230/230 [==============================] - 0s 1ms/step - loss: 2067.1160 - accuracy: 0.9339 - val_loss: 54820.9727 - val_accuracy: 0.4810\n",
            "Epoch 61/100\n",
            "230/230 [==============================] - 0s 1ms/step - loss: 3401.2788 - accuracy: 0.9322 - val_loss: 12884.7891 - val_accuracy: 0.7055\n",
            "Epoch 62/100\n",
            "230/230 [==============================] - 0s 1ms/step - loss: 2333.9993 - accuracy: 0.9333 - val_loss: 1778.8958 - val_accuracy: 0.9067\n",
            "Epoch 63/100\n",
            "230/230 [==============================] - 0s 1ms/step - loss: 2580.0249 - accuracy: 0.9294 - val_loss: 1679.7650 - val_accuracy: 0.9129\n",
            "Epoch 64/100\n",
            "230/230 [==============================] - 0s 2ms/step - loss: 1997.1554 - accuracy: 0.9377 - val_loss: 6936.5435 - val_accuracy: 0.7890\n",
            "Epoch 65/100\n",
            "230/230 [==============================] - 0s 1ms/step - loss: 2030.9182 - accuracy: 0.9377 - val_loss: 39659.8984 - val_accuracy: 0.7117\n",
            "Epoch 66/100\n",
            "230/230 [==============================] - 0s 2ms/step - loss: 2128.6365 - accuracy: 0.9396 - val_loss: 22198.3926 - val_accuracy: 0.7644\n",
            "Epoch 67/100\n",
            "230/230 [==============================] - 0s 2ms/step - loss: 1826.4683 - accuracy: 0.9427 - val_loss: 722.7536 - val_accuracy: 0.9607\n",
            "Epoch 68/100\n",
            "230/230 [==============================] - 0s 2ms/step - loss: 2379.7012 - accuracy: 0.9335 - val_loss: 2766.7986 - val_accuracy: 0.8871\n",
            "Epoch 69/100\n",
            "230/230 [==============================] - 0s 1ms/step - loss: 2395.0264 - accuracy: 0.9388 - val_loss: 687.1710 - val_accuracy: 0.9656\n",
            "Epoch 70/100\n",
            "230/230 [==============================] - 0s 1ms/step - loss: 3526.4553 - accuracy: 0.9133 - val_loss: 24995.6250 - val_accuracy: 0.7571\n",
            "Epoch 71/100\n",
            "230/230 [==============================] - 0s 2ms/step - loss: 2868.6941 - accuracy: 0.9363 - val_loss: 1346.0011 - val_accuracy: 0.9276\n",
            "Epoch 72/100\n",
            "230/230 [==============================] - 0s 2ms/step - loss: 2410.4861 - accuracy: 0.9301 - val_loss: 680.0299 - val_accuracy: 0.9804\n",
            "Epoch 73/100\n",
            "230/230 [==============================] - 0s 1ms/step - loss: 2219.2463 - accuracy: 0.9387 - val_loss: 634.2930 - val_accuracy: 0.9706\n",
            "Epoch 74/100\n",
            "230/230 [==============================] - 0s 2ms/step - loss: 2306.5864 - accuracy: 0.9325 - val_loss: 1263.4944 - val_accuracy: 0.9534\n",
            "Epoch 75/100\n",
            "230/230 [==============================] - 0s 2ms/step - loss: 2197.2070 - accuracy: 0.9399 - val_loss: 680.9737 - val_accuracy: 0.9804\n",
            "Epoch 76/100\n",
            "230/230 [==============================] - 0s 2ms/step - loss: 2091.0251 - accuracy: 0.9406 - val_loss: 646.7389 - val_accuracy: 0.9706\n",
            "Epoch 77/100\n",
            "230/230 [==============================] - 0s 2ms/step - loss: 2828.9375 - accuracy: 0.9249 - val_loss: 743.6946 - val_accuracy: 0.9595\n",
            "Epoch 78/100\n",
            "230/230 [==============================] - 0s 1ms/step - loss: 2724.2822 - accuracy: 0.9310 - val_loss: 778.7142 - val_accuracy: 0.9791\n",
            "Epoch 79/100\n",
            "230/230 [==============================] - 0s 2ms/step - loss: 2014.0316 - accuracy: 0.9419 - val_loss: 693.2872 - val_accuracy: 0.9804\n",
            "Epoch 80/100\n",
            "230/230 [==============================] - 0s 2ms/step - loss: 2074.0422 - accuracy: 0.9391 - val_loss: 1432.0640 - val_accuracy: 0.9215\n",
            "Epoch 81/100\n",
            "230/230 [==============================] - 0s 1ms/step - loss: 2432.7195 - accuracy: 0.9376 - val_loss: 735.0359 - val_accuracy: 0.9632\n",
            "Epoch 82/100\n",
            "230/230 [==============================] - 0s 1ms/step - loss: 2183.8137 - accuracy: 0.9377 - val_loss: 3721.6384 - val_accuracy: 0.8724\n",
            "Epoch 83/100\n",
            "230/230 [==============================] - 0s 2ms/step - loss: 2782.3486 - accuracy: 0.9291 - val_loss: 2287.7190 - val_accuracy: 0.8933\n",
            "Epoch 84/100\n",
            "230/230 [==============================] - 0s 2ms/step - loss: 2394.2095 - accuracy: 0.9342 - val_loss: 708.3896 - val_accuracy: 0.9656\n",
            "Epoch 85/100\n",
            "230/230 [==============================] - 0s 1ms/step - loss: 2086.8362 - accuracy: 0.9399 - val_loss: 1459.4298 - val_accuracy: 0.9215\n",
            "Epoch 86/100\n",
            "230/230 [==============================] - 0s 1ms/step - loss: 1811.9489 - accuracy: 0.9436 - val_loss: 767.2024 - val_accuracy: 0.9804\n",
            "Epoch 87/100\n",
            "230/230 [==============================] - 0s 2ms/step - loss: 1925.9840 - accuracy: 0.9456 - val_loss: 7086.9434 - val_accuracy: 0.7926\n",
            "Epoch 88/100\n",
            "230/230 [==============================] - 0s 2ms/step - loss: 1894.9333 - accuracy: 0.9421 - val_loss: 850.9733 - val_accuracy: 0.9509\n",
            "Epoch 89/100\n",
            "230/230 [==============================] - 0s 2ms/step - loss: 2276.9663 - accuracy: 0.9388 - val_loss: 650.2804 - val_accuracy: 0.9767\n",
            "Epoch 90/100\n",
            "230/230 [==============================] - 0s 2ms/step - loss: 2360.5938 - accuracy: 0.9331 - val_loss: 3042.6892 - val_accuracy: 0.9031\n",
            "Epoch 91/100\n",
            "230/230 [==============================] - 0s 1ms/step - loss: 2316.5444 - accuracy: 0.9328 - val_loss: 5496.4614 - val_accuracy: 0.8344\n",
            "Epoch 92/100\n",
            "230/230 [==============================] - 0s 2ms/step - loss: 2142.9275 - accuracy: 0.9373 - val_loss: 13723.2139 - val_accuracy: 0.7031\n",
            "Epoch 93/100\n",
            "230/230 [==============================] - 0s 1ms/step - loss: 2412.4099 - accuracy: 0.9384 - val_loss: 7893.7031 - val_accuracy: 0.8356\n",
            "Epoch 94/100\n",
            "230/230 [==============================] - 0s 1ms/step - loss: 2562.0251 - accuracy: 0.9355 - val_loss: 1632.0435 - val_accuracy: 0.9411\n",
            "Epoch 95/100\n",
            "230/230 [==============================] - 0s 1ms/step - loss: 1810.1973 - accuracy: 0.9445 - val_loss: 799.0712 - val_accuracy: 0.9558\n",
            "Epoch 96/100\n",
            "230/230 [==============================] - 0s 1ms/step - loss: 2205.7590 - accuracy: 0.9373 - val_loss: 2832.7227 - val_accuracy: 0.9104\n",
            "Epoch 97/100\n",
            "230/230 [==============================] - 0s 2ms/step - loss: 1903.5419 - accuracy: 0.9411 - val_loss: 851.9038 - val_accuracy: 0.9521\n",
            "Epoch 98/100\n",
            "230/230 [==============================] - 0s 1ms/step - loss: 2149.1196 - accuracy: 0.9449 - val_loss: 1249.2761 - val_accuracy: 0.9288\n",
            "Epoch 99/100\n",
            "230/230 [==============================] - 0s 2ms/step - loss: 1551.4423 - accuracy: 0.9521 - val_loss: 7689.2759 - val_accuracy: 0.8380\n",
            "Epoch 100/100\n",
            "230/230 [==============================] - 0s 2ms/step - loss: 2352.5493 - accuracy: 0.9357 - val_loss: 678.1264 - val_accuracy: 0.9669\n"
          ]
        }
      ]
    },
    {
      "cell_type": "code",
      "metadata": {
        "colab": {
          "base_uri": "https://localhost:8080/",
          "height": 295
        },
        "id": "n6tXR-ltJ33w",
        "outputId": "297c5e10-623c-4caf-e504-ff2ff717d9bb"
      },
      "source": [
        "import matplotlib.pyplot as plt\n",
        "\n",
        "# вывод графика ошибки по эпохам\n",
        "plt.plot(H.history['loss'])\n",
        "plt.plot(H.history['val_loss'])\n",
        "plt.grid()\n",
        "plt.xlabel('Epochs')\n",
        "plt.ylabel('loss')\n",
        "plt.legend(['train_loss', 'val_loss'])\n",
        "plt.title('Loss by epochs')\n",
        "plt.show()"
      ],
      "execution_count": null,
      "outputs": [
        {
          "output_type": "display_data",
          "data": {
            "image/png": "[encoded data removed]",
            "text/plain": [
              "<Figure size 432x288 with 1 Axes>"
            ]
          },
          "metadata": {
            "needs_background": "light"
          }
        }
      ]
    },
    {
      "cell_type": "code",
      "metadata": {
        "colab": {
          "base_uri": "https://localhost:8080/"
        },
        "id": "PU3b3aXOJ7ka",
        "outputId": "eb21c2cc-4da3-4c4f-d149-13b90d6cb707"
      },
      "source": [
        "# Оценка качества работы модели на тестовых данных\n",
        "scores = model.evaluate(X_test, y_test)\n",
        "print('Loss on test data:', scores[0])\n",
        "print('Accuracy on test data:', scores[1])"
      ],
      "execution_count": null,
      "outputs": [
        {
          "output_type": "stream",
          "name": "stdout",
          "text": [
            "110/110 [==============================] - 0s 1ms/step - loss: 551.1436 - accuracy: 0.9760\n",
            "Loss on test data: 551.1436157226562\n",
            "Accuracy on test data: 0.9759519100189209\n"
          ]
        }
      ]
    }
  ]
}